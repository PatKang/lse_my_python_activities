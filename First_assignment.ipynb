{
 "cells": [
  {
   "cell_type": "code",
   "execution_count": 3,
   "id": "3dea43a5",
   "metadata": {},
   "outputs": [
    {
     "name": "stdout",
     "output_type": "stream",
     "text": [
      "My name is Patrick\n",
      "The date is June 1st\n"
     ]
    }
   ],
   "source": [
    "# this is my first line of code for LSE\n",
    "\n",
    "print('My name is Patrick')\n",
    "print('The date is June 1st')"
   ]
  },
  {
   "cell_type": "code",
   "execution_count": 15,
   "id": "557c62f7",
   "metadata": {},
   "outputs": [
    {
     "name": "stdout",
     "output_type": "stream",
     "text": [
      "$ 182900\n",
      "$ 36580\n",
      "$ 60500\n"
     ]
    }
   ],
   "source": [
    "# Write a program to analyse real estate dta\n",
    "\n",
    "a = 45000\n",
    "b = 23400\n",
    "c = 67000\n",
    "d = 34600\n",
    "e = 12900\n",
    "\n",
    "# Total Sales in December\n",
    "sales = sum([a,b,c,d,e])\n",
    "print('$', sales)\n",
    "\n",
    "# Average sales Price\n",
    "average_sales_price = sales / len([a, b, c, d, e])\n",
    "print('$',round(average_sales_price))\n",
    "\n",
    "# Property price C\n",
    "comission_c = 6500\n",
    "property_price_c = c - comission_c\n",
    "print('$', property_price_c)"
   ]
  },
  {
   "cell_type": "code",
   "execution_count": null,
   "id": "0752d892",
   "metadata": {},
   "outputs": [],
   "source": []
  }
 ],
 "metadata": {
  "kernelspec": {
   "display_name": "Python 3 (ipykernel)",
   "language": "python",
   "name": "python3"
  },
  "language_info": {
   "codemirror_mode": {
    "name": "ipython",
    "version": 3
   },
   "file_extension": ".py",
   "mimetype": "text/x-python",
   "name": "python",
   "nbconvert_exporter": "python",
   "pygments_lexer": "ipython3",
   "version": "3.8.3"
  }
 },
 "nbformat": 4,
 "nbformat_minor": 5
}
