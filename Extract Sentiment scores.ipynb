{
 "cells": [
  {
   "cell_type": "markdown",
   "id": "0d0acc26",
   "metadata": {},
   "source": [
    "# Scenario\n",
    "\n",
    "An interior design company wants to gain insights on customer experience in its products and services. We are aiming to get an overview of existing customer satisfaction. \n",
    "\n",
    "We will use VaderSentiment, shich is a lexicon and rule based sentiment analysis tool to extract the sentiment scores from customer reviews. "
   ]
  },
  {
   "cell_type": "code",
   "execution_count": 2,
   "id": "cda9362c",
   "metadata": {},
   "outputs": [
    {
     "name": "stdout",
     "output_type": "stream",
     "text": [
      "Collecting vaderSentiment\n",
      "  Downloading vaderSentiment-3.3.2-py2.py3-none-any.whl (125 kB)\n",
      "Requirement already satisfied: requests in c:\\users\\patri\\anaconda3\\lib\\site-packages (from vaderSentiment) (2.27.1)\n",
      "Requirement already satisfied: idna<4,>=2.5 in c:\\users\\patri\\anaconda3\\lib\\site-packages (from requests->vaderSentiment) (3.3)\n",
      "Requirement already satisfied: charset-normalizer~=2.0.0 in c:\\users\\patri\\anaconda3\\lib\\site-packages (from requests->vaderSentiment) (2.0.4)\n",
      "Requirement already satisfied: certifi>=2017.4.17 in c:\\users\\patri\\anaconda3\\lib\\site-packages (from requests->vaderSentiment) (2022.6.15)\n",
      "Requirement already satisfied: urllib3<1.27,>=1.21.1 in c:\\users\\patri\\anaconda3\\lib\\site-packages (from requests->vaderSentiment) (1.26.8)\n",
      "Installing collected packages: vaderSentiment\n",
      "Successfully installed vaderSentiment-3.3.2\n"
     ]
    }
   ],
   "source": [
    "# Install VaderSentiment! \n",
    "!pip install vaderSentiment"
   ]
  },
  {
   "cell_type": "code",
   "execution_count": 4,
   "id": "3a6f08d7",
   "metadata": {},
   "outputs": [],
   "source": [
    "# Import the SentimentIntensityAnalyzer from vadersentiment\n",
    "from vaderSentiment.vaderSentiment import SentimentIntensityAnalyzer\n",
    "\n",
    "# Create a variable to store the SentimentIntensityAnalyzer to never write out the long name again\n",
    "sia = SentimentIntensityAnalyzer()\n",
    "\n",
    "# Create a variable to store the text \n",
    "sentences = [\n",
    "    \"Excellent customer service. Also loved the amazing showroom where you can get a real feel of the top quality furniture and get inspiration for room designs.\",\n",
    "    \"I found the sales person to be quite rude and stuck up... don't think she realised I know all the suppliers she uses. I got the sofa & chair elsewhere. I will not be coming back.\",\n",
    "    \"Thank you for finding replacement crystals for my chandelier.\",\n",
    "    \"I have worked with the team in several houses. All work was carried out on time and to budget.\"]"
   ]
  },
  {
   "cell_type": "code",
   "execution_count": 8,
   "id": "1757bdd9",
   "metadata": {},
   "outputs": [
    {
     "name": "stdout",
     "output_type": "stream",
     "text": [
      "The sentiment score for the sentence: \"Excellent customer service. Also loved the amazing showroom where you can get a real feel of the top quality furniture and get inspiration for room designs.\" is : 0.9485\n",
      "==================================================\n",
      "The sentiment score for the sentence: \"I found the sales person to be quite rude and stuck up... don't think she realised I know all the suppliers she uses. I got the sofa & chair elsewhere. I will not be coming back.\" is : -0.6764\n",
      "==================================================\n",
      "The sentiment score for the sentence: \"Thank you for finding replacement crystals for my chandelier.\" is : 0.3612\n",
      "==================================================\n",
      "The sentiment score for the sentence: \"I have worked with the team in several houses. All work was carried out on time and to budget.\" is : 0.0\n",
      "==================================================\n"
     ]
    }
   ],
   "source": [
    "# Apply the sentiment Analyzer by creating a for loop\n",
    "for sentence in sentences:\n",
    "    score = sia.polarity_scores(sentence)['compound']\n",
    "    print(f'The sentiment score for the sentence: \"{sentence}\" is : {score}')\n",
    "    print(\"=\" *50)"
   ]
  },
  {
   "cell_type": "markdown",
   "id": "90c3b1e2",
   "metadata": {},
   "source": [
    "### Calculate the output\n"
   ]
  },
  {
   "cell_type": "code",
   "execution_count": 9,
   "id": "60b7538d",
   "metadata": {},
   "outputs": [
    {
     "name": "stdout",
     "output_type": "stream",
     "text": [
      "For the sentence : \"Excellent customer service. Also loved the amazing showroom where you can get a real feel of the top quality furniture and get inspiration for room designs.\"\n",
      "The percentage of positive sentiment in :\"Excellent customer service. Also loved the amazing showroom where you can get a real feel of the top quality furniture and get inspiration for room designs.\" is : 44.1 %\n",
      "The percentage of neutral sentiment in :\"Excellent customer service. Also loved the amazing showroom where you can get a real feel of the top quality furniture and get inspiration for room designs.\" is : 55.9 %\n",
      "The percentage of negative sentiment in :\"Excellent customer service. Also loved the amazing showroom where you can get a real feel of the top quality furniture and get inspiration for room designs.\" is : 0.0 %\n",
      "==================================================\n",
      "For the sentence : \"I found the sales person to be quite rude and stuck up... don't think she realised I know all the suppliers she uses. I got the sofa & chair elsewhere. I will not be coming back.\"\n",
      "The percentage of positive sentiment in :\"I found the sales person to be quite rude and stuck up... don't think she realised I know all the suppliers she uses. I got the sofa & chair elsewhere. I will not be coming back.\" is : 0.0 %\n",
      "The percentage of neutral sentiment in :\"I found the sales person to be quite rude and stuck up... don't think she realised I know all the suppliers she uses. I got the sofa & chair elsewhere. I will not be coming back.\" is : 86.0 %\n",
      "The percentage of negative sentiment in :\"I found the sales person to be quite rude and stuck up... don't think she realised I know all the suppliers she uses. I got the sofa & chair elsewhere. I will not be coming back.\" is : 14.0 %\n",
      "==================================================\n",
      "For the sentence : \"Thank you for finding replacement crystals for my chandelier.\"\n",
      "The percentage of positive sentiment in :\"Thank you for finding replacement crystals for my chandelier.\" is : 23.8 %\n",
      "The percentage of neutral sentiment in :\"Thank you for finding replacement crystals for my chandelier.\" is : 76.2 %\n",
      "The percentage of negative sentiment in :\"Thank you for finding replacement crystals for my chandelier.\" is : 0.0 %\n",
      "==================================================\n",
      "For the sentence : \"I have worked with the team in several houses. All work was carried out on time and to budget.\"\n",
      "The percentage of positive sentiment in :\"I have worked with the team in several houses. All work was carried out on time and to budget.\" is : 0.0 %\n",
      "The percentage of neutral sentiment in :\"I have worked with the team in several houses. All work was carried out on time and to budget.\" is : 100.0 %\n",
      "The percentage of negative sentiment in :\"I have worked with the team in several houses. All work was carried out on time and to budget.\" is : 0.0 %\n",
      "==================================================\n"
     ]
    }
   ],
   "source": [
    "# Use again a for loop to calculate the scores \n",
    "for sentence in sentences:\n",
    "    print(f'For the sentence : \"{sentence}\"')\n",
    "    # Calculate the scores\n",
    "    polarity = sia.polarity_scores(sentence)\n",
    "    pos = polarity['pos']\n",
    "    neu = polarity['neu']\n",
    "    neg = polarity['neg']\n",
    "    # Display the scores with the print() function and appropriate docstrings\n",
    "    print(f'The percentage of positive sentiment in :\"{sentence}\" is : {round(pos*100,2)} %')\n",
    "    print(f'The percentage of neutral sentiment in :\"{sentence}\" is : {round(neu*100,2)} %')\n",
    "    print(f'The percentage of negative sentiment in :\"{sentence}\" is : {round(neg*100,2)} %')\n",
    "    print(\"=\"*50)\n",
    "          "
   ]
  },
  {
   "cell_type": "code",
   "execution_count": null,
   "id": "795f3c2a",
   "metadata": {},
   "outputs": [],
   "source": []
  }
 ],
 "metadata": {
  "kernelspec": {
   "display_name": "Python 3 (ipykernel)",
   "language": "python",
   "name": "python3"
  },
  "language_info": {
   "codemirror_mode": {
    "name": "ipython",
    "version": 3
   },
   "file_extension": ".py",
   "mimetype": "text/x-python",
   "name": "python",
   "nbconvert_exporter": "python",
   "pygments_lexer": "ipython3",
   "version": "3.8.3"
  }
 },
 "nbformat": 4,
 "nbformat_minor": 5
}
