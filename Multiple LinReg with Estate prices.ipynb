{
 "cells": [
  {
   "cell_type": "code",
   "execution_count": 2,
   "id": "b59f1394",
   "metadata": {},
   "outputs": [
    {
     "name": "stdout",
     "output_type": "stream",
     "text": [
      "<class 'pandas.core.frame.DataFrame'>\n",
      "RangeIndex: 506 entries, 0 to 505\n",
      "Data columns (total 3 columns):\n",
      " #   Column    Non-Null Count  Dtype  \n",
      "---  ------    --------------  -----  \n",
      " 0   Rooms     506 non-null    float64\n",
      " 1   Distance  506 non-null    float64\n",
      " 2   Value     506 non-null    float64\n",
      "dtypes: float64(3)\n",
      "memory usage: 12.0 KB\n",
      "None\n"
     ]
    },
    {
     "data": {
      "text/html": [
       "<div>\n",
       "<style scoped>\n",
       "    .dataframe tbody tr th:only-of-type {\n",
       "        vertical-align: middle;\n",
       "    }\n",
       "\n",
       "    .dataframe tbody tr th {\n",
       "        vertical-align: top;\n",
       "    }\n",
       "\n",
       "    .dataframe thead th {\n",
       "        text-align: right;\n",
       "    }\n",
       "</style>\n",
       "<table border=\"1\" class=\"dataframe\">\n",
       "  <thead>\n",
       "    <tr style=\"text-align: right;\">\n",
       "      <th></th>\n",
       "      <th>Rooms</th>\n",
       "      <th>Distance</th>\n",
       "      <th>Value</th>\n",
       "    </tr>\n",
       "  </thead>\n",
       "  <tbody>\n",
       "    <tr>\n",
       "      <th>0</th>\n",
       "      <td>6.575</td>\n",
       "      <td>4.0900</td>\n",
       "      <td>24.0</td>\n",
       "    </tr>\n",
       "    <tr>\n",
       "      <th>1</th>\n",
       "      <td>6.421</td>\n",
       "      <td>4.9671</td>\n",
       "      <td>21.6</td>\n",
       "    </tr>\n",
       "    <tr>\n",
       "      <th>2</th>\n",
       "      <td>7.185</td>\n",
       "      <td>4.9671</td>\n",
       "      <td>34.7</td>\n",
       "    </tr>\n",
       "    <tr>\n",
       "      <th>3</th>\n",
       "      <td>6.998</td>\n",
       "      <td>6.0622</td>\n",
       "      <td>33.4</td>\n",
       "    </tr>\n",
       "    <tr>\n",
       "      <th>4</th>\n",
       "      <td>7.147</td>\n",
       "      <td>6.0622</td>\n",
       "      <td>36.2</td>\n",
       "    </tr>\n",
       "  </tbody>\n",
       "</table>\n",
       "</div>"
      ],
      "text/plain": [
       "   Rooms  Distance  Value\n",
       "0  6.575    4.0900   24.0\n",
       "1  6.421    4.9671   21.6\n",
       "2  7.185    4.9671   34.7\n",
       "3  6.998    6.0622   33.4\n",
       "4  7.147    6.0622   36.2"
      ]
     },
     "execution_count": 2,
     "metadata": {},
     "output_type": "execute_result"
    }
   ],
   "source": [
    "# Import the necessary libraries, packages and modules.\n",
    "import statsmodels.api as sm\n",
    "import sklearn\n",
    "from sklearn import datasets\n",
    "import numpy as np\n",
    "from sklearn import linear_model\n",
    "import pandas as pd\n",
    "import matplotlib.pyplot as plt\n",
    "from sklearn.model_selection import train_test_split\n",
    "from sklearn import metrics\n",
    "from sklearn.linear_model import LinearRegression\n",
    "from statsmodels.stats.outliers_influence import variance_inflation_factor\n",
    "\n",
    "# Read the salary data file\n",
    "data = pd.read_csv('house_prices.csv')\n",
    "\n",
    "# Print the info\n",
    "print(data.info())\n",
    "# Print the table\n",
    "data.head()"
   ]
  },
  {
   "cell_type": "code",
   "execution_count": 5,
   "id": "a5c0cb66",
   "metadata": {},
   "outputs": [],
   "source": [
    "# Define the dependent and independent variables\n",
    "y = data['Value']\n",
    "\n",
    "X = data[['Rooms', 'Distance']]"
   ]
  },
  {
   "cell_type": "code",
   "execution_count": 7,
   "id": "2e00e5da",
   "metadata": {},
   "outputs": [
    {
     "data": {
      "text/plain": [
       "array([25.23262311, 24.30597474, 31.03025338, 29.9197274 , 31.23113776,\n",
       "       24.92052548, 20.99628003, 22.59515685, 17.89792552, 21.43016488,\n",
       "       24.59312806, 21.29554669, 19.86012857, 20.02480328, 21.19854962,\n",
       "       18.91052046, 19.79946305, 20.16587486, 15.24036623, 17.62554884,\n",
       "       16.24441157, 19.82577837, 21.36632302, 18.52848931, 19.65425152,\n",
       "       16.82067934, 18.81534563, 20.76312523, 24.70679323, 26.17680132,\n",
       "       17.71571146, 20.84706509, 19.68285587, 17.39216584, 20.85532906,\n",
       "       19.22540394, 18.42427779, 18.77543693, 19.75391977, 26.04958067,\n",
       "       29.82538634, 27.7461615 , 22.45651299, 22.82617229, 21.57637181,\n",
       "       17.86689491, 18.78224174, 21.21771802, 15.7523132 , 17.64542212,\n",
       "       21.17812468, 22.51593928, 26.00129836, 21.48617409, 20.7648873 ,\n",
       "       33.41670435, 26.03470634, 29.42393915, 23.26887906, 20.91861579,\n",
       "       19.42498135, 21.20638654, 25.71803969, 28.7805479 , 32.39778062,\n",
       "       23.95685233, 19.52974218, 20.27518634, 17.77558538, 20.33679623,\n",
       "       24.4272984 , 20.4138546 , 21.32920143, 22.91345556, 22.65354578,\n",
       "       22.890714  , 22.60892674, 21.40425339, 22.66548379, 19.26453233,\n",
       "       27.21117149, 26.26061901, 23.47057146, 22.28238086, 23.93257269,\n",
       "       25.8866734 , 20.46867221, 21.0694004 , 28.70813555, 29.33831749,\n",
       "       23.35427586, 23.24856115, 23.85471467, 21.82158854, 22.1311598 ,\n",
       "       25.38192659, 21.31567433, 38.09116527, 35.89961373, 32.34384335,\n",
       "       25.92897066, 26.44252374, 23.06406971, 20.70529134, 20.82575888,\n",
       "       17.89096542, 17.80983337, 20.32773223, 23.53360961, 21.43211252,\n",
       "       21.24661957, 25.77432221, 18.55715411, 20.22773676, 21.51106612,\n",
       "       18.74280198, 21.05607467, 19.70031291, 18.25696233, 17.1536719 ,\n",
       "       18.1319106 , 19.28182222, 18.84934375, 17.85553459, 18.08822678,\n",
       "       19.02342728, 15.62527907, 16.3445952 , 22.85186727, 15.94537952,\n",
       "       23.23909304, 22.15185608, 22.58429208, 17.81317649, 17.18051639,\n",
       "       22.15270637, 18.6234551 , 23.07253379, 17.72951157, 20.31717554,\n",
       "       20.49184141, 10.24188438, 13.56404016, 14.18022607,  9.17521327,\n",
       "       20.01032929, 15.63968329,  9.43381443, 11.75581429, 15.37128804,\n",
       "       20.03714997, 13.70483068, 10.26376982, 16.4047089 , 20.16299455,\n",
       "       20.36352051, 12.61382958, 27.38986751, 19.61236751, 23.52439846,\n",
       "       21.25191896, 32.24119459, 35.03015812, 40.13266443, 18.07140582,\n",
       "       20.17760014, 36.15047943, 18.27574481, 22.0066531 , 22.81660817,\n",
       "       18.25814198, 18.28396388, 15.67451622, 23.127448  , 18.25224159,\n",
       "       24.50921193, 20.0862567 , 22.56662054, 27.16677511, 28.1807569 ,\n",
       "       35.04684651, 20.70980371, 29.65823582, 24.51936744, 16.14769225,\n",
       "       21.12231335, 35.85173009, 26.90717641, 25.29843038, 30.83451843,\n",
       "       29.71020419, 27.84430488, 31.70812468, 28.25399262, 26.5289159 ,\n",
       "       37.43628005, 33.07283177, 31.48857764, 32.95841342, 30.49515072,\n",
       "       31.90337661, 22.66332984, 35.40777416, 36.98336372, 38.57641927,\n",
       "       19.14176992, 23.17056754, 18.39140092, 20.80803787, 14.29298272,\n",
       "       19.71567898, 14.71840923, 18.25931648, 23.40165325, 14.75093477,\n",
       "       21.70298077, 18.7080082 , 25.49532692, 19.15358169, 23.09949169,\n",
       "       27.9415013 , 21.10586268, 27.50842309, 25.2112546 , 39.5313432 ,\n",
       "       43.57119123, 37.69929117, 29.98045299, 34.66151384, 24.68071282,\n",
       "       19.80000137, 32.3948217 , 40.61771646, 39.73441915, 26.34747175,\n",
       "       20.71456818, 25.75385539, 32.15248179, 25.43182344, 26.53199992,\n",
       "       29.16468042, 22.10594813, 24.76262011, 25.07066952, 18.47898741,\n",
       "       18.58460435, 23.06089266, 24.09945926, 25.80940519, 28.31780756,\n",
       "       26.07457433, 25.64330515, 30.94939918, 42.40883738, 23.63030344,\n",
       "       21.58837589, 34.06706681, 42.8518546 , 30.8308752 , 26.56613731,\n",
       "       29.79301622, 32.59660487, 40.39693624, 30.86811263, 29.73045002,\n",
       "       15.27089721, 28.13971743, 39.57305938, 32.51446918, 19.38337199,\n",
       "       19.07012766, 22.4498698 , 24.8226445 , 35.19016533, 26.83721976,\n",
       "       27.77488986, 31.6640253 , 27.81955963, 24.43868089, 27.3237884 ,\n",
       "       36.48598755, 29.25605137, 35.19857294, 37.97440938, 31.32051978,\n",
       "       25.73162327, 24.63998764, 23.58891838, 24.52186803, 26.72222099,\n",
       "       28.25172769, 30.77773288, 26.21860156, 21.98018694, 20.94162034,\n",
       "       27.05351083, 25.91812871, 19.41364706, 25.03551645, 31.16129908,\n",
       "       29.66505907, 26.04986328, 25.21372916, 29.50001672, 31.01711463,\n",
       "       25.24151005, 32.18546498, 27.20067768, 25.38307233, 19.44263385,\n",
       "       10.36497585, 20.53689983, 19.76025002, 22.10861135, 24.92380039,\n",
       "       17.50451178, 19.37020914, 18.22460366, 23.26141757, 21.12330329,\n",
       "       24.14139013, 23.70131954, 20.84118151, 17.91031137, 24.13290953,\n",
       "       24.61338408, 23.56601608, 21.55049277, 19.55978401, 23.65244051,\n",
       "       22.31112486, 18.8311022 , 21.69156104, 24.11084632, 24.05803785,\n",
       "       21.42397818, 19.57665143, 19.99315709, 21.04414102, 20.39283655,\n",
       "       20.24321255, 32.53543999, 25.98874808, 27.10033213, 29.02545606,\n",
       "       22.21307719, 21.19211342, 26.88641821, 27.8402695 , 30.73495172,\n",
       "       26.78311781, 28.50415273, 22.38717151, 30.50787039, 20.38114896,\n",
       "       22.78393439, 21.07575447, 22.87364182, 20.62118801, 20.38474878,\n",
       "       22.90640109, 21.50372698, 13.58546183, 17.36965247, 43.57145549,\n",
       "       -2.50561219,  9.90196602,  0.10225832,  9.75835729, 24.84700588,\n",
       "       27.70244669, 20.64503858, 17.62444762,  9.11768221,  2.34001276,\n",
       "       30.37214586, 24.54198947, 25.8245981 , 22.19455025, 20.81272859,\n",
       "       27.3846414 , 23.71184894, 14.86114194, 14.69719681,  4.51221416,\n",
       "       12.50614694,  7.02535622, 10.11327659,  9.0918643 , 13.64833874,\n",
       "       16.58818231, 19.68101866, 10.5531217 , 20.74671878, 18.04903824,\n",
       "       23.16149169, 22.55669381, 16.7441488 , 14.08623731, 17.60328019,\n",
       "       18.834685  , 21.96080153, 22.52941393, 13.27511298, 14.83033379,\n",
       "       16.07917795,  2.36010443, 15.3505355 , 15.51260803, 26.3876312 ,\n",
       "       16.7244207 , 24.70166451,  6.85650551, 11.51220367,  5.94813852,\n",
       "       22.88912394, 25.94458476, 12.85201613, 18.67515846, 26.30177842,\n",
       "       22.6985216 , 19.14162473, 16.0281651 , 20.06732019, 15.35254561,\n",
       "       18.19057913, 17.7143145 , 20.86098192, 20.81730851, 22.47910898,\n",
       "       22.2387715 , 26.52481036, 22.98868314, 23.14191179, 21.08943367,\n",
       "       24.74716532, 23.20883973, 20.44598926, 18.49032667, 15.77782974,\n",
       "       17.48285298, 22.75531511, 21.07997353, 23.40824348, 17.81407596,\n",
       "       23.18405083, 22.1865964 , 21.45606425, 20.90626183, 22.91074358,\n",
       "       25.90056672, 25.08868162, 21.94413121, 31.63178628, 25.80006344,\n",
       "       23.98389927, 19.22270945, 18.96773829, 22.18216012, 20.21378105,\n",
       "       25.61199456, 22.73667472, 22.29917578, 24.05710312, 21.46056962,\n",
       "       17.55033458, 19.1536816 , 19.44064697, 18.9428834 , 17.02677721,\n",
       "       21.12512972, 21.70303237, 23.43458755, 28.03600885, 14.31701599,\n",
       "       20.67664938, 23.55924665, 13.07356228, 20.86172773, 21.14178537,\n",
       "       21.97627762, 26.40217634, 29.17798557, 18.08113274, 18.85751062,\n",
       "       22.86979799, 20.90918977, 18.87728391, 14.25699424, 13.87291819,\n",
       "       11.08051561, 18.93601475, 19.05421832, 16.75789769, 18.68540688,\n",
       "       16.63604641, 14.1716511 , 17.77342212, 19.51733263, 15.5521999 ,\n",
       "       19.63130033, 24.60331799, 20.34683124, 27.82217794, 26.32855206,\n",
       "       19.66102874])"
      ]
     },
     "execution_count": 7,
     "metadata": {},
     "output_type": "execute_result"
    }
   ],
   "source": [
    "# Define the mlr and fit the regression model\n",
    "mlr = linear_model.LinearRegression()\n",
    "mlr.fit(X, y) \n",
    "\n",
    "# Predict the values with the observations\n",
    "mlr.predict(X)"
   ]
  },
  {
   "cell_type": "markdown",
   "id": "74cbaa4a",
   "metadata": {},
   "source": [
    "### Check the metrics \n",
    "* R squared\n",
    "* Intercept\n",
    "* Coefficients"
   ]
  },
  {
   "cell_type": "code",
   "execution_count": 12,
   "id": "ef7d53b6",
   "metadata": {},
   "outputs": [
    {
     "name": "stdout",
     "output_type": "stream",
     "text": [
      "R-squared:  0.4955246476058477\n",
      "Intercept:  -34.63605017547333\n",
      "Coefficients: \n"
     ]
    },
    {
     "data": {
      "text/plain": [
       "[('Rooms', 8.801411828632595), ('Distance', 0.488848536567123)]"
      ]
     },
     "execution_count": 12,
     "metadata": {},
     "output_type": "execute_result"
    }
   ],
   "source": [
    "print('R-squared: ', mlr.score(X, y))\n",
    "print('Intercept: ', mlr.intercept_)\n",
    "print('Coefficients: ')\n",
    "list(zip(X, mlr.coef_))"
   ]
  },
  {
   "cell_type": "code",
   "execution_count": 19,
   "id": "b8375621",
   "metadata": {},
   "outputs": [
    {
     "name": "stdout",
     "output_type": "stream",
     "text": [
      "Predicted Value: \n",
      " [20.8605532]\n"
     ]
    },
    {
     "name": "stderr",
     "output_type": "stream",
     "text": [
      "C:\\Users\\patri\\anaconda3\\lib\\site-packages\\sklearn\\base.py:450: UserWarning: X does not have valid feature names, but LinearRegression was fitted with feature names\n",
      "  warnings.warn(\n"
     ]
    }
   ],
   "source": [
    "# Create variabled and define them as a random value to see what the model would predict\n",
    "New_rooms = 5.75\n",
    "New_distance = 10\n",
    "print('Predicted Value: \\n', mlr.predict([[New_rooms, New_distance]]))"
   ]
  },
  {
   "cell_type": "code",
   "execution_count": 20,
   "id": "de7a5d9c",
   "metadata": {},
   "outputs": [
    {
     "name": "stdout",
     "output_type": "stream",
     "text": [
      "Predicted Value: \n",
      " [47.26478869]\n"
     ]
    },
    {
     "name": "stderr",
     "output_type": "stream",
     "text": [
      "C:\\Users\\patri\\anaconda3\\lib\\site-packages\\sklearn\\base.py:450: UserWarning: X does not have valid feature names, but LinearRegression was fitted with feature names\n",
      "  warnings.warn(\n"
     ]
    }
   ],
   "source": [
    "# Try it out with some more values\n",
    "New_rooms = 8.75\n",
    "New_distance = 10\n",
    "print('Predicted Value: \\n', mlr.predict([[New_rooms, New_distance]]))"
   ]
  },
  {
   "cell_type": "markdown",
   "id": "3e6e42ad",
   "metadata": {},
   "source": [
    "### We can also create two subsets to see how the model will work on unknown data"
   ]
  },
  {
   "cell_type": "code",
   "execution_count": 32,
   "id": "0d1df33a",
   "metadata": {},
   "outputs": [],
   "source": [
    "# Split the data in train and test set. Do it in a 80:20 ratio\n",
    "X_train, X_test, y_train, y_test = sklearn.model_selection.train_test_split(X, y, test_size = 0.2, random_state = 100)"
   ]
  },
  {
   "cell_type": "code",
   "execution_count": 33,
   "id": "d61cabd9",
   "metadata": {},
   "outputs": [
    {
     "name": "stdout",
     "output_type": "stream",
     "text": [
      "                            OLS Regression Results                            \n",
      "==============================================================================\n",
      "Dep. Variable:                  Value   R-squared:                       0.492\n",
      "Model:                            OLS   Adj. R-squared:                  0.489\n",
      "Method:                 Least Squares   F-statistic:                     194.0\n",
      "Date:                Sat, 23 Jul 2022   Prob (F-statistic):           1.15e-59\n",
      "Time:                        18:24:42   Log-Likelihood:                -1325.0\n",
      "No. Observations:                 404   AIC:                             2656.\n",
      "Df Residuals:                     401   BIC:                             2668.\n",
      "Df Model:                           2                                         \n",
      "Covariance Type:            nonrobust                                         \n",
      "==============================================================================\n",
      "                 coef    std err          t      P>|t|      [0.025      0.975]\n",
      "------------------------------------------------------------------------------\n",
      "const        -33.0083      2.879    -11.466      0.000     -38.668     -27.349\n",
      "Rooms          8.5805      0.467     18.365      0.000       7.662       9.499\n",
      "Distance       0.4700      0.161      2.921      0.004       0.154       0.786\n",
      "==============================================================================\n",
      "Omnibus:                       86.720   Durbin-Watson:                   1.974\n",
      "Prob(Omnibus):                  0.000   Jarque-Bera (JB):              360.216\n",
      "Skew:                           0.872   Prob(JB):                     6.03e-79\n",
      "Kurtosis:                       7.284   Cond. No.                         68.3\n",
      "==============================================================================\n",
      "\n",
      "Notes:\n",
      "[1] Standard Errors assume that the covariance matrix of the errors is correctly specified.\n"
     ]
    }
   ],
   "source": [
    "# Train the model using the statsmodel OLS library\n",
    "\n",
    "# Fit the model with the added constant\n",
    "model = sm.OLS(y_train, sm.add_constant(X_train)).fit()\n",
    "\n",
    "# Set the predicted response vector\n",
    "y_pred = model.predict(sm.add_constant(X_test))\n",
    "\n",
    "# Call out a model summary\n",
    "print_model = model.summary()\n",
    "print(print_model)"
   ]
  },
  {
   "cell_type": "code",
   "execution_count": 34,
   "id": "ea397d38",
   "metadata": {},
   "outputs": [
    {
     "name": "stdout",
     "output_type": "stream",
     "text": [
      "Prediction for test set: [32.84170204 24.79758581 20.579617   21.05490173 17.79774956 22.98757205\n",
      " 25.86832879 23.31890801 23.68545938 22.87509946 23.70730711 16.9176725\n",
      " 26.25045291 20.95413666 36.78002211 28.47689886 25.11424585 10.84676171\n",
      " 31.40875594 39.86969287 29.78987503 27.44651286 18.54095161 19.40736987\n",
      " 17.79028485 19.48178357 27.84521604 23.71129088 17.33936814 19.07334403\n",
      " 18.10835374 20.03742329 43.2171108  24.26414697 28.17793387 29.88746758\n",
      " 17.05386352 21.08365176 19.69451596 19.03684817 21.19127377 24.72802032\n",
      " 19.41257797 19.79310205 21.46520067 25.98696879 21.11959823 15.7339515\n",
      " 19.20682804 19.23190752 21.74447713 20.9262753  22.66455714 28.31416712\n",
      " 13.49011791 14.5560643  30.87261834 29.79983541 18.47996362 22.8221721\n",
      " 22.42561549 26.4742037  16.7407955  32.43112451 21.60544817 23.54688296\n",
      " 18.90159908 30.42102804 19.2913621  20.54218546 23.86522513 21.31460455\n",
      "  5.14798281 21.56242825 27.77069462 20.67873765 22.97418644 37.87067641\n",
      " 17.91009163 23.50629655 35.73412805 39.32242803 18.79504118 21.30401052\n",
      " 22.738027   16.57024105 20.28210435 18.56785859 22.66047589 21.36608382\n",
      " 25.39197533 19.39391345 24.42179892 25.78359426 22.74746131 20.40392766\n",
      " 18.42048173 35.98821444 22.15776471 10.26316176 20.72542407 21.04059707]\n"
     ]
    }
   ],
   "source": [
    "mlr = LinearRegression()\n",
    "mlr.fit(X_train, y_train)\n",
    "y_pred_mlr = mlr.predict(X_test)\n",
    "print('Prediction for test set: {}'.format(y_pred_mlr))"
   ]
  },
  {
   "cell_type": "code",
   "execution_count": 35,
   "id": "104888bf",
   "metadata": {},
   "outputs": [
    {
     "name": "stdout",
     "output_type": "stream",
     "text": [
      "0.5042821858062394\n"
     ]
    }
   ],
   "source": [
    "print(mlr.score(X_test, y_test))"
   ]
  },
  {
   "cell_type": "markdown",
   "id": "7277c34a",
   "metadata": {},
   "source": [
    "### Multicollinearity"
   ]
  },
  {
   "cell_type": "code",
   "execution_count": 37,
   "id": "5302d151",
   "metadata": {},
   "outputs": [
    {
     "name": "stdout",
     "output_type": "stream",
     "text": [
      "   VIF Factor  features\n",
      "0       80.43     const\n",
      "1        1.05     Rooms\n",
      "2        1.05  Distance\n"
     ]
    }
   ],
   "source": [
    "x_temp = sm.add_constant(X_train)\n",
    "vif = pd.DataFrame()\n",
    "vif['VIF Factor'] = [variance_inflation_factor (x_temp.values, i) for i in range(x_temp.values.shape[1])]\n",
    "vif['features'] = x_temp.columns\n",
    "print(vif.round(2))"
   ]
  },
  {
   "cell_type": "markdown",
   "id": "9614c2af",
   "metadata": {},
   "source": [
    "Since the VIF factor is close to 1 we don't need to worry about multicollinearity"
   ]
  },
  {
   "cell_type": "markdown",
   "id": "cd6c1e60",
   "metadata": {},
   "source": [
    "### Predicting values\n",
    "\n",
    "We need to judge how poor or how good our model is"
   ]
  },
  {
   "cell_type": "code",
   "execution_count": 38,
   "id": "281e07ec",
   "metadata": {},
   "outputs": [
    {
     "name": "stdout",
     "output_type": "stream",
     "text": [
      "Mean Absolute Error (final):  4.570493627532387\n",
      "Mean Squared Error (final):  47.883530163510606\n"
     ]
    }
   ],
   "source": [
    "print('Mean Absolute Error (final): ', metrics.mean_absolute_error(y_test, y_pred))\n",
    "print('Mean Squared Error (final): ', metrics.mean_squared_error(y_test, y_pred))"
   ]
  },
  {
   "cell_type": "markdown",
   "id": "0196812f",
   "metadata": {},
   "source": [
    "The smaller the values the better the closer to 0 we would have a perfect model with perfect predictions\n",
    "\n",
    "Run other  regression models  with other variables and compare the MAE and MSE"
   ]
  },
  {
   "cell_type": "code",
   "execution_count": null,
   "id": "d9194cee",
   "metadata": {},
   "outputs": [],
   "source": []
  }
 ],
 "metadata": {
  "kernelspec": {
   "display_name": "Python 3 (ipykernel)",
   "language": "python",
   "name": "python3"
  },
  "language_info": {
   "codemirror_mode": {
    "name": "ipython",
    "version": 3
   },
   "file_extension": ".py",
   "mimetype": "text/x-python",
   "name": "python",
   "nbconvert_exporter": "python",
   "pygments_lexer": "ipython3",
   "version": "3.8.3"
  }
 },
 "nbformat": 4,
 "nbformat_minor": 5
}
