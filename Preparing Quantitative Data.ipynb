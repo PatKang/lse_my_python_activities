{
 "cells": [
  {
   "cell_type": "markdown",
   "id": "8b5ddff0",
   "metadata": {},
   "source": [
    "## Real estate data\n",
    "\n",
    "Derek plans to start a new project, builting family homes. He has access tohistoric data for the region in which he had acquired land for the project. The historic data includes prices for the houses sold over a 10 year period.\n",
    "\n",
    "The data includes informaiton about the number of bedrooms in each house which ranges from one to five rooms. \n",
    "\n",
    "Derek asked to analyze the data for any trends that might be evident. He wants to know the optimal amount of rooms to maximize profit for the project. \n",
    "\n",
    "## We will learn to \n",
    "* set up workspace\n",
    "* get to know the data\n",
    "* define sub-data sets\n",
    "* detect outliers"
   ]
  },
  {
   "cell_type": "code",
   "execution_count": 2,
   "id": "665de9c4",
   "metadata": {
    "scrolled": true
   },
   "outputs": [
    {
     "name": "stdout",
     "output_type": "stream",
     "text": [
      "(29580, 4)\n"
     ]
    },
    {
     "data": {
      "text/html": [
       "<div>\n",
       "<style scoped>\n",
       "    .dataframe tbody tr th:only-of-type {\n",
       "        vertical-align: middle;\n",
       "    }\n",
       "\n",
       "    .dataframe tbody tr th {\n",
       "        vertical-align: top;\n",
       "    }\n",
       "\n",
       "    .dataframe thead th {\n",
       "        text-align: right;\n",
       "    }\n",
       "</style>\n",
       "<table border=\"1\" class=\"dataframe\">\n",
       "  <thead>\n",
       "    <tr style=\"text-align: right;\">\n",
       "      <th></th>\n",
       "      <th>postcode</th>\n",
       "      <th>price</th>\n",
       "      <th>propertyType</th>\n",
       "      <th>bedrooms</th>\n",
       "    </tr>\n",
       "    <tr>\n",
       "      <th>datesold</th>\n",
       "      <th></th>\n",
       "      <th></th>\n",
       "      <th></th>\n",
       "      <th></th>\n",
       "    </tr>\n",
       "  </thead>\n",
       "  <tbody>\n",
       "    <tr>\n",
       "      <th>2007-02-07</th>\n",
       "      <td>2607</td>\n",
       "      <td>525000</td>\n",
       "      <td>house</td>\n",
       "      <td>4</td>\n",
       "    </tr>\n",
       "    <tr>\n",
       "      <th>2007-02-27</th>\n",
       "      <td>2906</td>\n",
       "      <td>290000</td>\n",
       "      <td>house</td>\n",
       "      <td>3</td>\n",
       "    </tr>\n",
       "    <tr>\n",
       "      <th>2007-03-07</th>\n",
       "      <td>2905</td>\n",
       "      <td>328000</td>\n",
       "      <td>house</td>\n",
       "      <td>3</td>\n",
       "    </tr>\n",
       "    <tr>\n",
       "      <th>2007-03-09</th>\n",
       "      <td>2905</td>\n",
       "      <td>380000</td>\n",
       "      <td>house</td>\n",
       "      <td>4</td>\n",
       "    </tr>\n",
       "    <tr>\n",
       "      <th>2007-03-21</th>\n",
       "      <td>2906</td>\n",
       "      <td>310000</td>\n",
       "      <td>house</td>\n",
       "      <td>3</td>\n",
       "    </tr>\n",
       "  </tbody>\n",
       "</table>\n",
       "</div>"
      ],
      "text/plain": [
       "            postcode   price propertyType  bedrooms\n",
       "datesold                                           \n",
       "2007-02-07      2607  525000        house         4\n",
       "2007-02-27      2906  290000        house         3\n",
       "2007-03-07      2905  328000        house         3\n",
       "2007-03-09      2905  380000        house         4\n",
       "2007-03-21      2906  310000        house         3"
      ]
     },
     "execution_count": 2,
     "metadata": {},
     "output_type": "execute_result"
    }
   ],
   "source": [
    "# Import the libraries\n",
    "import numpy as np\n",
    "import pandas as pd\n",
    "import matplotlib.pyplot as plt\n",
    "import seaborn as sns\n",
    "sns.set()\n",
    "\n",
    "from sklearn.metrics import r2_score, median_absolute_error, mean_absolute_error\n",
    "from sklearn.metrics import median_absolute_error, mean_squared_error, mean_squared_log_error\n",
    "\n",
    "import warnings\n",
    "warnings.filterwarnings('ignore')\n",
    "\n",
    "%matplotlib inline\n",
    "\n",
    "# Get multiple outputs in the same cell.\n",
    "from IPython.core.interactiveshell import InteractiveShell\n",
    "InteractiveShell.ast_node_interactivity = 'all'\n",
    "\n",
    "# Import the CSV file with Pandas\n",
    "data = pd.read_csv('raw_sales.csv', index_col = ['datesold'], parse_dates = ['datesold'])\n",
    "\n",
    "# View the DataFrame\n",
    "print(data.shape)\n",
    "data.head()"
   ]
  },
  {
   "cell_type": "markdown",
   "id": "61ef9ba6",
   "metadata": {},
   "source": [
    "### Get to know the data: Find the distribution of the house prices over time and check missing values"
   ]
  },
  {
   "cell_type": "code",
   "execution_count": 4,
   "id": "eec304cd",
   "metadata": {},
   "outputs": [
    {
     "data": {
      "text/plain": [
       "<AxesSubplot:xlabel='datesold'>"
      ]
     },
     "execution_count": 4,
     "metadata": {},
     "output_type": "execute_result"
    },
    {
     "data": {
      "text/plain": [
       "<matplotlib.legend.Legend at 0x1a93bde4130>"
      ]
     },
     "execution_count": 4,
     "metadata": {},
     "output_type": "execute_result"
    },
    {
     "data": {
      "text/plain": [
       "Text(0.5, 1.0, 'Housing Prices')"
      ]
     },
     "execution_count": 4,
     "metadata": {},
     "output_type": "execute_result"
    },
    {
     "data": {
      "image/png": "[encoded data removed]",
      "text/plain": [
       "<Figure size 864x288 with 1 Axes>"
      ]
     },
     "metadata": {
      "needs_background": "light"
     },
     "output_type": "display_data"
    },
    {
     "data": {
      "text/plain": [
       "postcode        0\n",
       "price           0\n",
       "propertyType    0\n",
       "bedrooms        0\n",
       "dtype: int64"
      ]
     },
     "execution_count": 4,
     "metadata": {},
     "output_type": "execute_result"
    }
   ],
   "source": [
    "# Plot the house priecs as a time series.\n",
    "# Plot the size of the plot first. \n",
    "data.plot(figsize = (12, 4))\n",
    "\n",
    "# Specify the legend and title of the plot. \n",
    "plt.legend(loc = 'best')\n",
    "plt.title('Housing Prices')\n",
    "plt.show(block = False);\n",
    "\n",
    "# Check for missing values.\n",
    "data.isna().sum()"
   ]
  },
  {
   "cell_type": "markdown",
   "id": "0b82ceac",
   "metadata": {},
   "source": [
    "**The data is way too dense to produce any valuable insights, we need to create subsets to derive any insights**"
   ]
  },
  {
   "cell_type": "code",
   "execution_count": 7,
   "id": "c579c7dc",
   "metadata": {},
   "outputs": [
    {
     "name": "stdout",
     "output_type": "stream",
     "text": [
      "3    11933\n",
      "4    10442\n",
      "2     3598\n",
      "5     1950\n",
      "1     1627\n",
      "0       30\n",
      "Name: bedrooms, dtype: int64\n"
     ]
    },
    {
     "data": {
      "text/plain": [
       "Text(0.5, 1.0, 'Count of number of bedrooms')"
      ]
     },
     "execution_count": 7,
     "metadata": {},
     "output_type": "execute_result"
    },
    {
     "data": {
      "text/plain": [
       "<AxesSubplot:title={'center':'Count of number of bedrooms'}, xlabel='bedrooms', ylabel='count'>"
      ]
     },
     "execution_count": 7,
     "metadata": {},
     "output_type": "execute_result"
    },
    {
     "data": {
      "image/png": "[encoded data removed]",
      "text/plain": [
       "<Figure size 432x288 with 1 Axes>"
      ]
     },
     "metadata": {
      "needs_background": "light"
     },
     "output_type": "display_data"
    }
   ],
   "source": [
    "# Count the number of values in a specified column of the DataFrame\n",
    "print(data['bedrooms'].value_counts())\n",
    "\n",
    "# Create a plot.\n",
    "plt.title('Count of number of bedrooms')\n",
    "\n",
    "sns.despine(left = True);\n",
    "sns.countplot(x = 'bedrooms', data = data)"
   ]
  },
  {
   "cell_type": "code",
   "execution_count": 10,
   "id": "558fdf8e",
   "metadata": {},
   "outputs": [
    {
     "name": "stdout",
     "output_type": "stream",
     "text": [
      "              postcode    price  bedrooms\n",
      "propertyType                             \n",
      "house             2914  8000000         5\n",
      "unit              2914  2500000         5\n",
      "              postcode  price  bedrooms\n",
      "propertyType                           \n",
      "house             2600  56500         0\n",
      "unit              2600  85000         0\n"
     ]
    }
   ],
   "source": [
    "print(data.groupby(by = 'propertyType').max('price'))\n",
    "print(data.groupby(by = 'propertyType').min('price'))"
   ]
  },
  {
   "cell_type": "code",
   "execution_count": 12,
   "id": "4810fc9d",
   "metadata": {},
   "outputs": [
    {
     "name": "stdout",
     "output_type": "stream",
     "text": [
      "          postcode    price\n",
      "bedrooms                   \n",
      "0             2914  1160000\n",
      "1             2914  2280000\n",
      "2             2914  3050000\n",
      "3             2914  6480000\n",
      "4             2914  8000000\n",
      "5             2914  7300000\n",
      "          postcode   price\n",
      "bedrooms                  \n",
      "0             2600   90000\n",
      "1             2600   85000\n",
      "2             2600   96000\n",
      "3             2600   69000\n",
      "4             2600   56500\n",
      "5             2600  210000\n"
     ]
    }
   ],
   "source": [
    "print(data.groupby(by = 'bedrooms').max('price'))\n",
    "print(data.groupby(by = 'bedrooms').min('price'))"
   ]
  },
  {
   "cell_type": "markdown",
   "id": "301ca573",
   "metadata": {},
   "source": [
    "**Define sub data sets**\n",
    "\n",
    "Copy the original data and divide it into five data sets containing houses of one two three four and five bedrooms"
   ]
  },
  {
   "cell_type": "code",
   "execution_count": 14,
   "id": "389d0328",
   "metadata": {},
   "outputs": [
    {
     "name": "stdout",
     "output_type": "stream",
     "text": [
      "(1627, 4)\n",
      "(3598, 4)\n",
      "(11933, 4)\n",
      "(10442, 4)\n",
      "(1950, 4)\n"
     ]
    }
   ],
   "source": [
    "# Create a copy\n",
    "data_sub = data.copy()\n",
    "\n",
    "# Data set consisting of houses with 1 bedroom\n",
    "data_oneroom = data_sub[data_sub['bedrooms'] == 1]\n",
    "print(data_oneroom.shape)\n",
    "\n",
    "# Data set consisting of houses with 2 bedroom\n",
    "data_tworoom = data_sub[data_sub['bedrooms'] == 2]\n",
    "print(data_tworoom.shape)\n",
    "\n",
    "# Data set consisting of houses with 3 bedroom\n",
    "data_threeroom = data_sub[data_sub['bedrooms'] == 3]\n",
    "print(data_threeroom.shape)\n",
    "\n",
    "# Data set consisting of houses with 4 bedroom\n",
    "data_fourroom = data_sub[data_sub['bedrooms'] == 4]\n",
    "print(data_fourroom.shape)\n",
    "\n",
    "# Data set consisting of houses with 5 bedroom\n",
    "data_fiveroom = data_sub[data_sub['bedrooms'] == 5]\n",
    "print(data_fiveroom.shape)"
   ]
  },
  {
   "cell_type": "markdown",
   "id": "05e54e88",
   "metadata": {},
   "source": [
    "**Detect outliers**\n",
    "\n",
    "We can now create a histogram for each of the sub-data sets by the number of bedrooms. Plot them all as subplots.\n",
    "Remember that the index in this code refers to the position where the plot is rendered in a multi plot layout"
   ]
  },
  {
   "cell_type": "code",
   "execution_count": 15,
   "id": "e4f0886a",
   "metadata": {},
   "outputs": [
    {
     "data": {
      "text/plain": [
       "(array([613., 982.,  27.,   2.,   1.,   0.,   1.,   0.,   0.,   1.]),\n",
       " array([  85000.,  304500.,  524000.,  743500.,  963000., 1182500.,\n",
       "        1402000., 1621500., 1841000., 2060500., 2280000.]),\n",
       " <BarContainer object of 10 artists>)"
      ]
     },
     "execution_count": 15,
     "metadata": {},
     "output_type": "execute_result"
    },
    {
     "data": {
      "text/plain": [
       "(array([1.526e+03, 1.846e+03, 1.950e+02, 2.300e+01, 6.000e+00, 0.000e+00,\n",
       "        0.000e+00, 0.000e+00, 1.000e+00, 1.000e+00]),\n",
       " array([  96000.,  391400.,  686800.,  982200., 1277600., 1573000.,\n",
       "        1868400., 2163800., 2459200., 2754600., 3050000.]),\n",
       " <BarContainer object of 10 artists>)"
      ]
     },
     "execution_count": 15,
     "metadata": {},
     "output_type": "execute_result"
    },
    {
     "data": {
      "text/plain": [
       "(array([1.0209e+04, 1.6280e+03, 8.4000e+01, 8.0000e+00, 1.0000e+00,\n",
       "        0.0000e+00, 2.0000e+00, 0.0000e+00, 0.0000e+00, 1.0000e+00]),\n",
       " array([  69000.,  710100., 1351200., 1992300., 2633400., 3274500.,\n",
       "        3915600., 4556700., 5197800., 5838900., 6480000.]),\n",
       " <BarContainer object of 10 artists>)"
      ]
     },
     "execution_count": 15,
     "metadata": {},
     "output_type": "execute_result"
    },
    {
     "data": {
      "text/plain": [
       "(array([8.528e+03, 1.767e+03, 1.260e+02, 1.600e+01, 1.000e+00, 2.000e+00,\n",
       "        1.000e+00, 0.000e+00, 0.000e+00, 1.000e+00]),\n",
       " array([  56500.,  850850., 1645200., 2439550., 3233900., 4028250.,\n",
       "        4822600., 5616950., 6411300., 7205650., 8000000.]),\n",
       " <BarContainer object of 10 artists>)"
      ]
     },
     "execution_count": 15,
     "metadata": {},
     "output_type": "execute_result"
    },
    {
     "data": {
      "text/plain": [
       "(array([1.289e+03, 5.590e+02, 7.400e+01, 1.700e+01, 7.000e+00, 1.000e+00,\n",
       "        1.000e+00, 1.000e+00, 0.000e+00, 1.000e+00]),\n",
       " array([ 210000.,  919000., 1628000., 2337000., 3046000., 3755000.,\n",
       "        4464000., 5173000., 5882000., 6591000., 7300000.]),\n",
       " <BarContainer object of 10 artists>)"
      ]
     },
     "execution_count": 15,
     "metadata": {},
     "output_type": "execute_result"
    },
    {
     "data": {
      "image/png": "[encoded data removed]",
      "text/plain": [
       "<Figure size 1440x1440 with 5 Axes>"
      ]
     },
     "metadata": {
      "needs_background": "light"
     },
     "output_type": "display_data"
    }
   ],
   "source": [
    "# Set the plot size.\n",
    "fig, axes = plt.subplots(nrows = 3, ncols = 2, figsize = (20, 20))\n",
    "\n",
    "# 1 bedroom:\n",
    "axes[0][0].hist(data_oneroom['price'])\n",
    "axes[0][0].title.set_text('1 bedroom price histogram')\n",
    "\n",
    "# 1 bedroom:\n",
    "axes[0][1].hist(data_tworoom['price'])\n",
    "axes[0][1].title.set_text('2 bedroom price histogram')\n",
    "\n",
    "# 1 bedroom:\n",
    "axes[1][0].hist(data_threeroom['price'])\n",
    "axes[1][0].title.set_text('3 bedroom price histogram')\n",
    "\n",
    "# 1 bedroom:\n",
    "axes[1][1].hist(data_fourroom['price'])\n",
    "axes[1][1].title.set_text('4 bedroom price histogram')\n",
    "\n",
    "# 1 bedroom:\n",
    "axes[2][0].hist(data_fiveroom['price'])\n",
    "axes[2][0].title.set_text('5 bedroom price histogram')\n",
    "\n",
    "fig.delaxes(axes[2][1])\n",
    "\n",
    "plt.show()"
   ]
  },
  {
   "cell_type": "code",
   "execution_count": 23,
   "id": "c44ac3cf",
   "metadata": {},
   "outputs": [
    {
     "data": {
      "image/png": "[encoded data removed]",
      "text/plain": [
       "<Figure size 1296x288 with 1 Axes>"
      ]
     },
     "metadata": {
      "needs_background": "light"
     },
     "output_type": "display_data"
    }
   ],
   "source": [
    "# Now create a boxplot for the one-bedroom house sub-data set by the number of bedrooms to find the outliers\n",
    "# Set figsize\n",
    "fig = plt.figure(figsize=(18, 4))\n",
    "\n",
    "# Create a boxplot.\n",
    "ax = sns.boxplot(x = data_oneroom['price'], whis = 1.5).set_title('Single bedroom')"
   ]
  },
  {
   "cell_type": "code",
   "execution_count": 22,
   "id": "99e46d58",
   "metadata": {
    "scrolled": true
   },
   "outputs": [
    {
     "data": {
      "image/png": "[encoded data removed]",
      "text/plain": [
       "<Figure size 1296x288 with 1 Axes>"
      ]
     },
     "metadata": {
      "needs_background": "light"
     },
     "output_type": "display_data"
    }
   ],
   "source": [
    "# now let'd do it for the other room houses as well \n",
    "fig = plt.figure(figsize=(18, 4))\n",
    "\n",
    "# Create a boxplot.\n",
    "ax = sns.boxplot(x = data_tworoom['price'], whis = 1.5).set_title('Two bedrooms')"
   ]
  },
  {
   "cell_type": "code",
   "execution_count": 21,
   "id": "d2c7152b",
   "metadata": {},
   "outputs": [
    {
     "data": {
      "image/png": "[encoded data removed]",
      "text/plain": [
       "<Figure size 1296x288 with 1 Axes>"
      ]
     },
     "metadata": {
      "needs_background": "light"
     },
     "output_type": "display_data"
    }
   ],
   "source": [
    "fig = plt.figure(figsize=(18, 4))\n",
    "\n",
    "# Create a boxplot.\n",
    "ax = sns.boxplot(x = data_threeroom['price'], whis = 1.5).set_title('Three bedrooms')"
   ]
  },
  {
   "cell_type": "code",
   "execution_count": 24,
   "id": "b982ac54",
   "metadata": {},
   "outputs": [
    {
     "data": {
      "image/png": "[encoded data removed]",
      "text/plain": [
       "<Figure size 1296x288 with 1 Axes>"
      ]
     },
     "metadata": {
      "needs_background": "light"
     },
     "output_type": "display_data"
    }
   ],
   "source": [
    "fig = plt.figure(figsize=(18, 4))\n",
    "\n",
    "# Create a boxplot.\n",
    "ax = sns.boxplot(x = data_fourroom['price'], whis = 1.5).set_title('Four bedrooms')"
   ]
  },
  {
   "cell_type": "code",
   "execution_count": 25,
   "id": "bee6aa83",
   "metadata": {},
   "outputs": [
    {
     "data": {
      "image/png": "[encoded data removed]",
      "text/plain": [
       "<Figure size 1296x288 with 1 Axes>"
      ]
     },
     "metadata": {
      "needs_background": "light"
     },
     "output_type": "display_data"
    }
   ],
   "source": [
    "fig = plt.figure(figsize=(18, 4))\n",
    "\n",
    "# Create a boxplot.\n",
    "ax = sns.boxplot(x = data_fiveroom['price'], whis = 1.5).set_title('Five bedrooms')"
   ]
  },
  {
   "cell_type": "markdown",
   "id": "698181bd",
   "metadata": {},
   "source": [
    "**As we have a bunch of outliers, we should remove them to make better analysis**"
   ]
  },
  {
   "cell_type": "code",
   "execution_count": 27,
   "id": "1b35f08c",
   "metadata": {},
   "outputs": [
    {
     "data": {
      "text/plain": [
       "price    100250.0\n",
       "dtype: float64"
      ]
     },
     "execution_count": 27,
     "metadata": {},
     "output_type": "execute_result"
    },
    {
     "data": {
      "text/html": [
       "<div>\n",
       "<style scoped>\n",
       "    .dataframe tbody tr th:only-of-type {\n",
       "        vertical-align: middle;\n",
       "    }\n",
       "\n",
       "    .dataframe tbody tr th {\n",
       "        vertical-align: top;\n",
       "    }\n",
       "\n",
       "    .dataframe thead th {\n",
       "        text-align: right;\n",
       "    }\n",
       "</style>\n",
       "<table border=\"1\" class=\"dataframe\">\n",
       "  <thead>\n",
       "    <tr style=\"text-align: right;\">\n",
       "      <th></th>\n",
       "      <th>postcode</th>\n",
       "      <th>price</th>\n",
       "      <th>propertyType</th>\n",
       "      <th>bedrooms</th>\n",
       "    </tr>\n",
       "    <tr>\n",
       "      <th>datesold</th>\n",
       "      <th></th>\n",
       "      <th></th>\n",
       "      <th></th>\n",
       "      <th></th>\n",
       "    </tr>\n",
       "  </thead>\n",
       "  <tbody>\n",
       "    <tr>\n",
       "      <th>2007-07-08</th>\n",
       "      <td>2600</td>\n",
       "      <td>327000</td>\n",
       "      <td>house</td>\n",
       "      <td>1</td>\n",
       "    </tr>\n",
       "    <tr>\n",
       "      <th>2007-10-15</th>\n",
       "      <td>2615</td>\n",
       "      <td>273000</td>\n",
       "      <td>house</td>\n",
       "      <td>1</td>\n",
       "    </tr>\n",
       "    <tr>\n",
       "      <th>2007-10-25</th>\n",
       "      <td>2602</td>\n",
       "      <td>135500</td>\n",
       "      <td>house</td>\n",
       "      <td>1</td>\n",
       "    </tr>\n",
       "    <tr>\n",
       "      <th>2007-11-29</th>\n",
       "      <td>2912</td>\n",
       "      <td>308000</td>\n",
       "      <td>house</td>\n",
       "      <td>1</td>\n",
       "    </tr>\n",
       "    <tr>\n",
       "      <th>2008-01-23</th>\n",
       "      <td>2601</td>\n",
       "      <td>380000</td>\n",
       "      <td>house</td>\n",
       "      <td>1</td>\n",
       "    </tr>\n",
       "    <tr>\n",
       "      <th>...</th>\n",
       "      <td>...</td>\n",
       "      <td>...</td>\n",
       "      <td>...</td>\n",
       "      <td>...</td>\n",
       "    </tr>\n",
       "    <tr>\n",
       "      <th>2019-07-19</th>\n",
       "      <td>2911</td>\n",
       "      <td>279000</td>\n",
       "      <td>unit</td>\n",
       "      <td>1</td>\n",
       "    </tr>\n",
       "    <tr>\n",
       "      <th>2019-07-23</th>\n",
       "      <td>2617</td>\n",
       "      <td>310000</td>\n",
       "      <td>unit</td>\n",
       "      <td>1</td>\n",
       "    </tr>\n",
       "    <tr>\n",
       "      <th>2019-07-25</th>\n",
       "      <td>2620</td>\n",
       "      <td>172500</td>\n",
       "      <td>unit</td>\n",
       "      <td>1</td>\n",
       "    </tr>\n",
       "    <tr>\n",
       "      <th>2019-07-25</th>\n",
       "      <td>2606</td>\n",
       "      <td>321000</td>\n",
       "      <td>unit</td>\n",
       "      <td>1</td>\n",
       "    </tr>\n",
       "    <tr>\n",
       "      <th>2019-07-25</th>\n",
       "      <td>2603</td>\n",
       "      <td>380000</td>\n",
       "      <td>unit</td>\n",
       "      <td>1</td>\n",
       "    </tr>\n",
       "  </tbody>\n",
       "</table>\n",
       "<p>1592 rows × 4 columns</p>\n",
       "</div>"
      ],
      "text/plain": [
       "            postcode   price propertyType  bedrooms\n",
       "datesold                                           \n",
       "2007-07-08      2600  327000        house         1\n",
       "2007-10-15      2615  273000        house         1\n",
       "2007-10-25      2602  135500        house         1\n",
       "2007-11-29      2912  308000        house         1\n",
       "2008-01-23      2601  380000        house         1\n",
       "...              ...     ...          ...       ...\n",
       "2019-07-19      2911  279000         unit         1\n",
       "2019-07-23      2617  310000         unit         1\n",
       "2019-07-25      2620  172500         unit         1\n",
       "2019-07-25      2606  321000         unit         1\n",
       "2019-07-25      2603  380000         unit         1\n",
       "\n",
       "[1592 rows x 4 columns]"
      ]
     },
     "execution_count": 27,
     "metadata": {},
     "output_type": "execute_result"
    }
   ],
   "source": [
    "# Determine the column where we have the ourlier\n",
    "cols = ['price']\n",
    "\n",
    "# Calculate the quantiles and IQR\n",
    "Q1 = data_oneroom[cols].quantile(0.25)\n",
    "Q3 = data_oneroom[cols].quantile(0.75)\n",
    "IQR = Q3 - Q1\n",
    "IQR\n",
    "\n",
    "# Return a Boolean array of the rows with (any) non-outlier column values\n",
    "condition = ~((data_oneroom[cols] < (Q1 - 1.5 * IQR)) | (data_oneroom[cols] > (Q3 + 1.5 * IQR))).any(axis = 1)\n",
    "\n",
    "# Filter our DataFrame based on condition.\n",
    "data_oneroom_non_outlier = data_oneroom[condition]\n",
    "data_oneroom_non_outlier"
   ]
  },
  {
   "cell_type": "code",
   "execution_count": 28,
   "id": "52c03cf6",
   "metadata": {},
   "outputs": [
    {
     "data": {
      "image/png": "[encoded data removed]",
      "text/plain": [
       "<Figure size 864x144 with 1 Axes>"
      ]
     },
     "metadata": {
      "needs_background": "light"
     },
     "output_type": "display_data"
    }
   ],
   "source": [
    "fig = plt.figure(figsize=(12, 2))\n",
    "\n",
    "# Create a boxplot.\n",
    "ax = sns.boxplot(x = data_oneroom_non_outlier['price'], whis = 1.5).set_title('Single room, no outliers')"
   ]
  },
  {
   "cell_type": "code",
   "execution_count": 31,
   "id": "cd0ae282",
   "metadata": {},
   "outputs": [
    {
     "data": {
      "text/plain": [
       "price    140000.0\n",
       "dtype: float64"
      ]
     },
     "execution_count": 31,
     "metadata": {},
     "output_type": "execute_result"
    },
    {
     "data": {
      "text/html": [
       "<div>\n",
       "<style scoped>\n",
       "    .dataframe tbody tr th:only-of-type {\n",
       "        vertical-align: middle;\n",
       "    }\n",
       "\n",
       "    .dataframe tbody tr th {\n",
       "        vertical-align: top;\n",
       "    }\n",
       "\n",
       "    .dataframe thead th {\n",
       "        text-align: right;\n",
       "    }\n",
       "</style>\n",
       "<table border=\"1\" class=\"dataframe\">\n",
       "  <thead>\n",
       "    <tr style=\"text-align: right;\">\n",
       "      <th></th>\n",
       "      <th>postcode</th>\n",
       "      <th>price</th>\n",
       "      <th>propertyType</th>\n",
       "      <th>bedrooms</th>\n",
       "    </tr>\n",
       "    <tr>\n",
       "      <th>datesold</th>\n",
       "      <th></th>\n",
       "      <th></th>\n",
       "      <th></th>\n",
       "      <th></th>\n",
       "    </tr>\n",
       "  </thead>\n",
       "  <tbody>\n",
       "    <tr>\n",
       "      <th>2007-08-28</th>\n",
       "      <td>2906</td>\n",
       "      <td>325000</td>\n",
       "      <td>house</td>\n",
       "      <td>2</td>\n",
       "    </tr>\n",
       "    <tr>\n",
       "      <th>2007-08-30</th>\n",
       "      <td>2905</td>\n",
       "      <td>315000</td>\n",
       "      <td>house</td>\n",
       "      <td>2</td>\n",
       "    </tr>\n",
       "    <tr>\n",
       "      <th>2007-11-08</th>\n",
       "      <td>2602</td>\n",
       "      <td>497000</td>\n",
       "      <td>house</td>\n",
       "      <td>2</td>\n",
       "    </tr>\n",
       "    <tr>\n",
       "      <th>2007-11-12</th>\n",
       "      <td>2611</td>\n",
       "      <td>465000</td>\n",
       "      <td>house</td>\n",
       "      <td>2</td>\n",
       "    </tr>\n",
       "    <tr>\n",
       "      <th>2007-12-14</th>\n",
       "      <td>2602</td>\n",
       "      <td>259000</td>\n",
       "      <td>house</td>\n",
       "      <td>2</td>\n",
       "    </tr>\n",
       "    <tr>\n",
       "      <th>...</th>\n",
       "      <td>...</td>\n",
       "      <td>...</td>\n",
       "      <td>...</td>\n",
       "      <td>...</td>\n",
       "    </tr>\n",
       "    <tr>\n",
       "      <th>2019-07-25</th>\n",
       "      <td>2603</td>\n",
       "      <td>297500</td>\n",
       "      <td>unit</td>\n",
       "      <td>2</td>\n",
       "    </tr>\n",
       "    <tr>\n",
       "      <th>2019-07-25</th>\n",
       "      <td>2612</td>\n",
       "      <td>475000</td>\n",
       "      <td>unit</td>\n",
       "      <td>2</td>\n",
       "    </tr>\n",
       "    <tr>\n",
       "      <th>2019-07-25</th>\n",
       "      <td>2612</td>\n",
       "      <td>560000</td>\n",
       "      <td>unit</td>\n",
       "      <td>2</td>\n",
       "    </tr>\n",
       "    <tr>\n",
       "      <th>2019-07-26</th>\n",
       "      <td>2912</td>\n",
       "      <td>464950</td>\n",
       "      <td>unit</td>\n",
       "      <td>2</td>\n",
       "    </tr>\n",
       "    <tr>\n",
       "      <th>2019-07-26</th>\n",
       "      <td>2601</td>\n",
       "      <td>589000</td>\n",
       "      <td>unit</td>\n",
       "      <td>2</td>\n",
       "    </tr>\n",
       "  </tbody>\n",
       "</table>\n",
       "<p>3387 rows × 4 columns</p>\n",
       "</div>"
      ],
      "text/plain": [
       "            postcode   price propertyType  bedrooms\n",
       "datesold                                           \n",
       "2007-08-28      2906  325000        house         2\n",
       "2007-08-30      2905  315000        house         2\n",
       "2007-11-08      2602  497000        house         2\n",
       "2007-11-12      2611  465000        house         2\n",
       "2007-12-14      2602  259000        house         2\n",
       "...              ...     ...          ...       ...\n",
       "2019-07-25      2603  297500         unit         2\n",
       "2019-07-25      2612  475000         unit         2\n",
       "2019-07-25      2612  560000         unit         2\n",
       "2019-07-26      2912  464950         unit         2\n",
       "2019-07-26      2601  589000         unit         2\n",
       "\n",
       "[3387 rows x 4 columns]"
      ]
     },
     "execution_count": 31,
     "metadata": {},
     "output_type": "execute_result"
    }
   ],
   "source": [
    "# Repeat for the other subsets\n",
    "\n",
    "# Determine the column where we have the ourlier\n",
    "cols = ['price']\n",
    "\n",
    "# Calculate the quantiles and IQR\n",
    "Q1 = data_tworoom[cols].quantile(0.25)\n",
    "Q3 = data_tworoom[cols].quantile(0.75)\n",
    "IQR = Q3 - Q1\n",
    "IQR\n",
    "\n",
    "# Return a Boolean array of the rows with (any) non-outlier column values\n",
    "condition = ~((data_tworoom[cols] < (Q1 - 1.5 * IQR)) | (data_tworoom[cols] > (Q3 + 1.5 * IQR))).any(axis = 1)\n",
    "\n",
    "# Filter our DataFrame based on condition.\n",
    "data_tworoom_non_outlier = data_tworoom[condition]\n",
    "data_tworoom_non_outlier"
   ]
  },
  {
   "cell_type": "code",
   "execution_count": 35,
   "id": "43192eb6",
   "metadata": {},
   "outputs": [
    {
     "data": {
      "image/png": "[encoded data removed]",
      "text/plain": [
       "<Figure size 864x144 with 1 Axes>"
      ]
     },
     "metadata": {
      "needs_background": "light"
     },
     "output_type": "display_data"
    }
   ],
   "source": [
    "fig = plt.figure(figsize=(12, 2))\n",
    "\n",
    "# Create a boxplot.\n",
    "ax = sns.boxplot(x = data_tworoom_non_outlier['price'], whis = 1.5).set_title('Two room, no outliers')"
   ]
  },
  {
   "cell_type": "code",
   "execution_count": 36,
   "id": "c3e2d621",
   "metadata": {},
   "outputs": [
    {
     "data": {
      "text/plain": [
       "price    177500.0\n",
       "dtype: float64"
      ]
     },
     "execution_count": 36,
     "metadata": {},
     "output_type": "execute_result"
    },
    {
     "data": {
      "text/html": [
       "<div>\n",
       "<style scoped>\n",
       "    .dataframe tbody tr th:only-of-type {\n",
       "        vertical-align: middle;\n",
       "    }\n",
       "\n",
       "    .dataframe tbody tr th {\n",
       "        vertical-align: top;\n",
       "    }\n",
       "\n",
       "    .dataframe thead th {\n",
       "        text-align: right;\n",
       "    }\n",
       "</style>\n",
       "<table border=\"1\" class=\"dataframe\">\n",
       "  <thead>\n",
       "    <tr style=\"text-align: right;\">\n",
       "      <th></th>\n",
       "      <th>postcode</th>\n",
       "      <th>price</th>\n",
       "      <th>propertyType</th>\n",
       "      <th>bedrooms</th>\n",
       "    </tr>\n",
       "    <tr>\n",
       "      <th>datesold</th>\n",
       "      <th></th>\n",
       "      <th></th>\n",
       "      <th></th>\n",
       "      <th></th>\n",
       "    </tr>\n",
       "  </thead>\n",
       "  <tbody>\n",
       "    <tr>\n",
       "      <th>2007-02-27</th>\n",
       "      <td>2906</td>\n",
       "      <td>290000</td>\n",
       "      <td>house</td>\n",
       "      <td>3</td>\n",
       "    </tr>\n",
       "    <tr>\n",
       "      <th>2007-03-07</th>\n",
       "      <td>2905</td>\n",
       "      <td>328000</td>\n",
       "      <td>house</td>\n",
       "      <td>3</td>\n",
       "    </tr>\n",
       "    <tr>\n",
       "      <th>2007-03-21</th>\n",
       "      <td>2906</td>\n",
       "      <td>310000</td>\n",
       "      <td>house</td>\n",
       "      <td>3</td>\n",
       "    </tr>\n",
       "    <tr>\n",
       "      <th>2007-04-24</th>\n",
       "      <td>2607</td>\n",
       "      <td>399000</td>\n",
       "      <td>house</td>\n",
       "      <td>3</td>\n",
       "    </tr>\n",
       "    <tr>\n",
       "      <th>2007-05-24</th>\n",
       "      <td>2902</td>\n",
       "      <td>359000</td>\n",
       "      <td>house</td>\n",
       "      <td>3</td>\n",
       "    </tr>\n",
       "    <tr>\n",
       "      <th>...</th>\n",
       "      <td>...</td>\n",
       "      <td>...</td>\n",
       "      <td>...</td>\n",
       "      <td>...</td>\n",
       "    </tr>\n",
       "    <tr>\n",
       "      <th>2019-07-04</th>\n",
       "      <td>2617</td>\n",
       "      <td>457500</td>\n",
       "      <td>unit</td>\n",
       "      <td>3</td>\n",
       "    </tr>\n",
       "    <tr>\n",
       "      <th>2019-07-18</th>\n",
       "      <td>2601</td>\n",
       "      <td>560000</td>\n",
       "      <td>unit</td>\n",
       "      <td>3</td>\n",
       "    </tr>\n",
       "    <tr>\n",
       "      <th>2019-07-23</th>\n",
       "      <td>2914</td>\n",
       "      <td>450000</td>\n",
       "      <td>unit</td>\n",
       "      <td>3</td>\n",
       "    </tr>\n",
       "    <tr>\n",
       "      <th>2019-07-23</th>\n",
       "      <td>2912</td>\n",
       "      <td>549950</td>\n",
       "      <td>unit</td>\n",
       "      <td>3</td>\n",
       "    </tr>\n",
       "    <tr>\n",
       "      <th>2019-07-25</th>\n",
       "      <td>2900</td>\n",
       "      <td>500000</td>\n",
       "      <td>unit</td>\n",
       "      <td>3</td>\n",
       "    </tr>\n",
       "  </tbody>\n",
       "</table>\n",
       "<p>11254 rows × 4 columns</p>\n",
       "</div>"
      ],
      "text/plain": [
       "            postcode   price propertyType  bedrooms\n",
       "datesold                                           \n",
       "2007-02-27      2906  290000        house         3\n",
       "2007-03-07      2905  328000        house         3\n",
       "2007-03-21      2906  310000        house         3\n",
       "2007-04-24      2607  399000        house         3\n",
       "2007-05-24      2902  359000        house         3\n",
       "...              ...     ...          ...       ...\n",
       "2019-07-04      2617  457500         unit         3\n",
       "2019-07-18      2601  560000         unit         3\n",
       "2019-07-23      2914  450000         unit         3\n",
       "2019-07-23      2912  549950         unit         3\n",
       "2019-07-25      2900  500000         unit         3\n",
       "\n",
       "[11254 rows x 4 columns]"
      ]
     },
     "execution_count": 36,
     "metadata": {},
     "output_type": "execute_result"
    }
   ],
   "source": [
    "# Repeat for the other subsets\n",
    "\n",
    "# Determine the column where we have the ourlier\n",
    "cols = ['price']\n",
    "\n",
    "# Calculate the quantiles and IQR\n",
    "Q1 = data_threeroom[cols].quantile(0.25)\n",
    "Q3 = data_threeroom[cols].quantile(0.75)\n",
    "IQR = Q3 - Q1\n",
    "IQR\n",
    "\n",
    "# Return a Boolean array of the rows with (any) non-outlier column values\n",
    "condition = ~((data_threeroom[cols] < (Q1 - 1.5 * IQR)) | (data_threeroom[cols] > (Q3 + 1.5 * IQR))).any(axis = 1)\n",
    "\n",
    "# Filter our DataFrame based on condition.\n",
    "data_threeroom_non_outlier = data_threeroom[condition]\n",
    "data_threeroom_non_outlier"
   ]
  },
  {
   "cell_type": "code",
   "execution_count": 37,
   "id": "5df851d7",
   "metadata": {},
   "outputs": [
    {
     "data": {
      "image/png": "[encoded data removed]",
      "text/plain": [
       "<Figure size 864x144 with 1 Axes>"
      ]
     },
     "metadata": {
      "needs_background": "light"
     },
     "output_type": "display_data"
    }
   ],
   "source": [
    "fig = plt.figure(figsize=(12, 2))\n",
    "\n",
    "# Create a boxplot.\n",
    "ax = sns.boxplot(x = data_threeroom_non_outlier['price'], whis = 1.5).set_title('Three room, no outliers')"
   ]
  },
  {
   "cell_type": "code",
   "execution_count": 38,
   "id": "686d92ae",
   "metadata": {},
   "outputs": [
    {
     "data": {
      "text/plain": [
       "price    230500.0\n",
       "dtype: float64"
      ]
     },
     "execution_count": 38,
     "metadata": {},
     "output_type": "execute_result"
    },
    {
     "data": {
      "text/html": [
       "<div>\n",
       "<style scoped>\n",
       "    .dataframe tbody tr th:only-of-type {\n",
       "        vertical-align: middle;\n",
       "    }\n",
       "\n",
       "    .dataframe tbody tr th {\n",
       "        vertical-align: top;\n",
       "    }\n",
       "\n",
       "    .dataframe thead th {\n",
       "        text-align: right;\n",
       "    }\n",
       "</style>\n",
       "<table border=\"1\" class=\"dataframe\">\n",
       "  <thead>\n",
       "    <tr style=\"text-align: right;\">\n",
       "      <th></th>\n",
       "      <th>postcode</th>\n",
       "      <th>price</th>\n",
       "      <th>propertyType</th>\n",
       "      <th>bedrooms</th>\n",
       "    </tr>\n",
       "    <tr>\n",
       "      <th>datesold</th>\n",
       "      <th></th>\n",
       "      <th></th>\n",
       "      <th></th>\n",
       "      <th></th>\n",
       "    </tr>\n",
       "  </thead>\n",
       "  <tbody>\n",
       "    <tr>\n",
       "      <th>2007-02-07</th>\n",
       "      <td>2607</td>\n",
       "      <td>525000</td>\n",
       "      <td>house</td>\n",
       "      <td>4</td>\n",
       "    </tr>\n",
       "    <tr>\n",
       "      <th>2007-03-09</th>\n",
       "      <td>2905</td>\n",
       "      <td>380000</td>\n",
       "      <td>house</td>\n",
       "      <td>4</td>\n",
       "    </tr>\n",
       "    <tr>\n",
       "      <th>2007-04-04</th>\n",
       "      <td>2905</td>\n",
       "      <td>465000</td>\n",
       "      <td>house</td>\n",
       "      <td>4</td>\n",
       "    </tr>\n",
       "    <tr>\n",
       "      <th>2007-06-27</th>\n",
       "      <td>2612</td>\n",
       "      <td>850000</td>\n",
       "      <td>house</td>\n",
       "      <td>4</td>\n",
       "    </tr>\n",
       "    <tr>\n",
       "      <th>2007-06-28</th>\n",
       "      <td>2904</td>\n",
       "      <td>765000</td>\n",
       "      <td>house</td>\n",
       "      <td>4</td>\n",
       "    </tr>\n",
       "    <tr>\n",
       "      <th>...</th>\n",
       "      <td>...</td>\n",
       "      <td>...</td>\n",
       "      <td>...</td>\n",
       "      <td>...</td>\n",
       "    </tr>\n",
       "    <tr>\n",
       "      <th>2017-12-13</th>\n",
       "      <td>2612</td>\n",
       "      <td>680000</td>\n",
       "      <td>unit</td>\n",
       "      <td>4</td>\n",
       "    </tr>\n",
       "    <tr>\n",
       "      <th>2018-02-05</th>\n",
       "      <td>2905</td>\n",
       "      <td>535000</td>\n",
       "      <td>unit</td>\n",
       "      <td>4</td>\n",
       "    </tr>\n",
       "    <tr>\n",
       "      <th>2018-03-13</th>\n",
       "      <td>2905</td>\n",
       "      <td>645000</td>\n",
       "      <td>unit</td>\n",
       "      <td>4</td>\n",
       "    </tr>\n",
       "    <tr>\n",
       "      <th>2018-07-04</th>\n",
       "      <td>2603</td>\n",
       "      <td>300000</td>\n",
       "      <td>unit</td>\n",
       "      <td>4</td>\n",
       "    </tr>\n",
       "    <tr>\n",
       "      <th>2019-04-26</th>\n",
       "      <td>2904</td>\n",
       "      <td>769500</td>\n",
       "      <td>unit</td>\n",
       "      <td>4</td>\n",
       "    </tr>\n",
       "  </tbody>\n",
       "</table>\n",
       "<p>9772 rows × 4 columns</p>\n",
       "</div>"
      ],
      "text/plain": [
       "            postcode   price propertyType  bedrooms\n",
       "datesold                                           \n",
       "2007-02-07      2607  525000        house         4\n",
       "2007-03-09      2905  380000        house         4\n",
       "2007-04-04      2905  465000        house         4\n",
       "2007-06-27      2612  850000        house         4\n",
       "2007-06-28      2904  765000        house         4\n",
       "...              ...     ...          ...       ...\n",
       "2017-12-13      2612  680000         unit         4\n",
       "2018-02-05      2905  535000         unit         4\n",
       "2018-03-13      2905  645000         unit         4\n",
       "2018-07-04      2603  300000         unit         4\n",
       "2019-04-26      2904  769500         unit         4\n",
       "\n",
       "[9772 rows x 4 columns]"
      ]
     },
     "execution_count": 38,
     "metadata": {},
     "output_type": "execute_result"
    }
   ],
   "source": [
    "# Repeat for the other subsets\n",
    "\n",
    "# Determine the column where we have the ourlier\n",
    "cols = ['price']\n",
    "\n",
    "# Calculate the quantiles and IQR\n",
    "Q1 = data_fourroom[cols].quantile(0.25)\n",
    "Q3 = data_fourroom[cols].quantile(0.75)\n",
    "IQR = Q3 - Q1\n",
    "IQR\n",
    "\n",
    "# Return a Boolean array of the rows with (any) non-outlier column values\n",
    "condition = ~((data_fourroom[cols] < (Q1 - 1.5 * IQR)) | (data_fourroom[cols] > (Q3 + 1.5 * IQR))).any(axis = 1)\n",
    "\n",
    "# Filter our DataFrame based on condition.\n",
    "data_fourroom_non_outlier = data_fourroom[condition]\n",
    "data_fourroom_non_outlier"
   ]
  },
  {
   "cell_type": "code",
   "execution_count": 39,
   "id": "9f7b9a10",
   "metadata": {},
   "outputs": [
    {
     "data": {
      "image/png": "[encoded data removed]",
      "text/plain": [
       "<Figure size 864x144 with 1 Axes>"
      ]
     },
     "metadata": {
      "needs_background": "light"
     },
     "output_type": "display_data"
    }
   ],
   "source": [
    "fig = plt.figure(figsize=(12, 2))\n",
    "\n",
    "# Create a boxplot.\n",
    "ax = sns.boxplot(x = data_fourroom_non_outlier['price'], whis = 1.5).set_title('Four room, no outliers')"
   ]
  },
  {
   "cell_type": "code",
   "execution_count": 40,
   "id": "6a641963",
   "metadata": {},
   "outputs": [
    {
     "data": {
      "text/plain": [
       "price    325000.0\n",
       "dtype: float64"
      ]
     },
     "execution_count": 40,
     "metadata": {},
     "output_type": "execute_result"
    },
    {
     "data": {
      "text/html": [
       "<div>\n",
       "<style scoped>\n",
       "    .dataframe tbody tr th:only-of-type {\n",
       "        vertical-align: middle;\n",
       "    }\n",
       "\n",
       "    .dataframe tbody tr th {\n",
       "        vertical-align: top;\n",
       "    }\n",
       "\n",
       "    .dataframe thead th {\n",
       "        text-align: right;\n",
       "    }\n",
       "</style>\n",
       "<table border=\"1\" class=\"dataframe\">\n",
       "  <thead>\n",
       "    <tr style=\"text-align: right;\">\n",
       "      <th></th>\n",
       "      <th>postcode</th>\n",
       "      <th>price</th>\n",
       "      <th>propertyType</th>\n",
       "      <th>bedrooms</th>\n",
       "    </tr>\n",
       "    <tr>\n",
       "      <th>datesold</th>\n",
       "      <th></th>\n",
       "      <th></th>\n",
       "      <th></th>\n",
       "      <th></th>\n",
       "    </tr>\n",
       "  </thead>\n",
       "  <tbody>\n",
       "    <tr>\n",
       "      <th>2007-07-02</th>\n",
       "      <td>2914</td>\n",
       "      <td>800000</td>\n",
       "      <td>house</td>\n",
       "      <td>5</td>\n",
       "    </tr>\n",
       "    <tr>\n",
       "      <th>2007-07-06</th>\n",
       "      <td>2615</td>\n",
       "      <td>535000</td>\n",
       "      <td>house</td>\n",
       "      <td>5</td>\n",
       "    </tr>\n",
       "    <tr>\n",
       "      <th>2007-08-07</th>\n",
       "      <td>2904</td>\n",
       "      <td>815000</td>\n",
       "      <td>house</td>\n",
       "      <td>5</td>\n",
       "    </tr>\n",
       "    <tr>\n",
       "      <th>2007-08-21</th>\n",
       "      <td>2902</td>\n",
       "      <td>418000</td>\n",
       "      <td>house</td>\n",
       "      <td>5</td>\n",
       "    </tr>\n",
       "    <tr>\n",
       "      <th>2007-09-21</th>\n",
       "      <td>2603</td>\n",
       "      <td>1460000</td>\n",
       "      <td>house</td>\n",
       "      <td>5</td>\n",
       "    </tr>\n",
       "    <tr>\n",
       "      <th>...</th>\n",
       "      <td>...</td>\n",
       "      <td>...</td>\n",
       "      <td>...</td>\n",
       "      <td>...</td>\n",
       "    </tr>\n",
       "    <tr>\n",
       "      <th>2019-07-19</th>\n",
       "      <td>2614</td>\n",
       "      <td>1150000</td>\n",
       "      <td>house</td>\n",
       "      <td>5</td>\n",
       "    </tr>\n",
       "    <tr>\n",
       "      <th>2019-07-23</th>\n",
       "      <td>2905</td>\n",
       "      <td>700000</td>\n",
       "      <td>house</td>\n",
       "      <td>5</td>\n",
       "    </tr>\n",
       "    <tr>\n",
       "      <th>2019-07-27</th>\n",
       "      <td>2905</td>\n",
       "      <td>865000</td>\n",
       "      <td>house</td>\n",
       "      <td>5</td>\n",
       "    </tr>\n",
       "    <tr>\n",
       "      <th>2014-07-31</th>\n",
       "      <td>2617</td>\n",
       "      <td>729000</td>\n",
       "      <td>unit</td>\n",
       "      <td>5</td>\n",
       "    </tr>\n",
       "    <tr>\n",
       "      <th>2014-11-01</th>\n",
       "      <td>2605</td>\n",
       "      <td>1220000</td>\n",
       "      <td>unit</td>\n",
       "      <td>5</td>\n",
       "    </tr>\n",
       "  </tbody>\n",
       "</table>\n",
       "<p>1809 rows × 4 columns</p>\n",
       "</div>"
      ],
      "text/plain": [
       "            postcode    price propertyType  bedrooms\n",
       "datesold                                            \n",
       "2007-07-02      2914   800000        house         5\n",
       "2007-07-06      2615   535000        house         5\n",
       "2007-08-07      2904   815000        house         5\n",
       "2007-08-21      2902   418000        house         5\n",
       "2007-09-21      2603  1460000        house         5\n",
       "...              ...      ...          ...       ...\n",
       "2019-07-19      2614  1150000        house         5\n",
       "2019-07-23      2905   700000        house         5\n",
       "2019-07-27      2905   865000        house         5\n",
       "2014-07-31      2617   729000         unit         5\n",
       "2014-11-01      2605  1220000         unit         5\n",
       "\n",
       "[1809 rows x 4 columns]"
      ]
     },
     "execution_count": 40,
     "metadata": {},
     "output_type": "execute_result"
    }
   ],
   "source": [
    "# Repeat for the other subsets\n",
    "\n",
    "# Determine the column where we have the ourlier\n",
    "cols = ['price']\n",
    "\n",
    "# Calculate the quantiles and IQR\n",
    "Q1 = data_fiveroom[cols].quantile(0.25)\n",
    "Q3 = data_fiveroom[cols].quantile(0.75)\n",
    "IQR = Q3 - Q1\n",
    "IQR\n",
    "\n",
    "# Return a Boolean array of the rows with (any) non-outlier column values\n",
    "condition = ~((data_fiveroom[cols] < (Q1 - 1.5 * IQR)) | (data_fiveroom[cols] > (Q3 + 1.5 * IQR))).any(axis = 1)\n",
    "\n",
    "# Filter our DataFrame based on condition.\n",
    "data_fiveroom_non_outlier = data_fiveroom[condition]\n",
    "data_fiveroom_non_outlier"
   ]
  },
  {
   "cell_type": "code",
   "execution_count": 41,
   "id": "7b863685",
   "metadata": {},
   "outputs": [
    {
     "data": {
      "image/png": "[encoded data removed]",
      "text/plain": [
       "<Figure size 864x144 with 1 Axes>"
      ]
     },
     "metadata": {
      "needs_background": "light"
     },
     "output_type": "display_data"
    }
   ],
   "source": [
    "fig = plt.figure(figsize=(12, 2))\n",
    "\n",
    "# Create a boxplot.\n",
    "ax = sns.boxplot(x = data_fiveroom_non_outlier['price'], whis = 1.5).set_title('Five room, no outliers')"
   ]
  },
  {
   "cell_type": "code",
   "execution_count": null,
   "id": "cf842f68",
   "metadata": {},
   "outputs": [],
   "source": []
  }
 ],
 "metadata": {
  "kernelspec": {
   "display_name": "Python 3 (ipykernel)",
   "language": "python",
   "name": "python3"
  },
  "language_info": {
   "codemirror_mode": {
    "name": "ipython",
    "version": 3
   },
   "file_extension": ".py",
   "mimetype": "text/x-python",
   "name": "python",
   "nbconvert_exporter": "python",
   "pygments_lexer": "ipython3",
   "version": "3.8.3"
  }
 },
 "nbformat": 4,
 "nbformat_minor": 5
}
