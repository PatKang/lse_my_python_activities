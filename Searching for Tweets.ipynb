{
 "cells": [
  {
   "cell_type": "markdown",
   "id": "2c33947a",
   "metadata": {},
   "source": [
    "### We can get a different output on trending topics\n",
    "\n",
    "let's analyze the tweets in detail"
   ]
  },
  {
   "cell_type": "code",
   "execution_count": 1,
   "id": "f8aee55a",
   "metadata": {},
   "outputs": [
    {
     "name": "stdout",
     "output_type": "stream",
     "text": [
      "<twitter.api.Twitter object at 0x000001D68A5EA5E0>\n"
     ]
    }
   ],
   "source": [
    "# Set up the workstation\n",
    "\n",
    "import yaml \n",
    "from yaml.loader import SafeLoader\n",
    "\n",
    "twitter_creds = yaml.safe_load(open('twitter_tmp.yaml', 'r').read())\n",
    "\n",
    "twitter_creds.keys()\n",
    "\n",
    "from twitter import *\n",
    "\n",
    "# Now we can define the access token, access token secret, api key and api key secret. Keep the Order as that.\n",
    "twitter_api = Twitter(auth = OAuth(twitter_creds['access_token'],\n",
    "                                   twitter_creds['access_token_secret'],\n",
    "                                   twitter_creds['api_key'],\n",
    "                                   twitter_creds['api_secret_key']))\n",
    "\n",
    "# Check if we have an active connection\n",
    "print(twitter_api)"
   ]
  },
  {
   "cell_type": "code",
   "execution_count": 2,
   "id": "6d04c4e9",
   "metadata": {},
   "outputs": [],
   "source": [
    "# Search for a common trend\n",
    "q = '#Timberwolves'\n",
    "\n",
    "# set count to 100 \n",
    "Count = 100"
   ]
  },
  {
   "cell_type": "code",
   "execution_count": 3,
   "id": "47e12d4e",
   "metadata": {},
   "outputs": [],
   "source": [
    "# Search for some tweets \n",
    "search_results = twitter_api.search.tweets(q = q, count = 100)\n",
    "\n",
    "statuses = search_results['statuses']"
   ]
  },
  {
   "cell_type": "code",
   "execution_count": 5,
   "id": "f6d9ae2b",
   "metadata": {},
   "outputs": [
    {
     "name": "stdout",
     "output_type": "stream",
     "text": [
      "Length of statuses 200\n",
      "{\n",
      "  \"created_at\": \"Sat Jul 02 06:52:42 +0000 2022\",\n",
      "  \"id\": 1543125493213327361,\n",
      "  \"id_str\": \"1543125493213327361\",\n",
      "  \"text\": \"Was Rudy Gobert worth four first round picks? And Pat Bev?! Tune in to the Reed Report for the full clip!\\u2026 https://t.co/PDcb0sDtQH\",\n",
      "  \"truncated\": true,\n",
      "  \"entities\": {\n",
      "    \"hashtags\": [],\n",
      "    \"symbols\": [],\n",
      "    \"user_mentions\": [],\n",
      "    \"urls\": [\n",
      "      {\n",
      "        \"url\": \"https://t.co/PDcb0sDtQH\",\n",
      "        \"expanded_url\": \"https://twitter.com/i/web/status/1543125493213327361\",\n",
      "        \"display_url\": \"twitter.com/i/web/status/1\\u2026\",\n",
      "        \"indices\": [\n",
      "          107,\n",
      "          130\n",
      "        ]\n",
      "      }\n",
      "    ]\n",
      "  },\n",
      "  \"metadata\": {\n",
      "    \"iso_language_code\": \"en\",\n",
      "    \"result_type\": \"recent\"\n",
      "  },\n",
      "  \"source\": \"<a href=\\\"http://twitter.com/download/iphone\\\" rel=\\\"nofollow\\\">Twitter for iPhone</a>\",\n",
      "  \"in_reply_to_status_id\": null,\n",
      "  \"in_reply_to_status_id_str\": null,\n",
      "  \"in_reply_to_user_id\": null,\n",
      "  \"in_reply_to_user_id_str\": null,\n",
      "  \"in_reply_to_screen_name\": null,\n",
      "  \"user\": {\n",
      "    \"id\": 1229094589685878784,\n",
      "    \"id_str\": \"1229094589685878784\",\n",
      "    \"name\": \"TheReedReport\",\n",
      "    \"screen_name\": \"ReportReed\",\n",
      "    \"location\": \"Sacramento \",\n",
      "    \"description\": \"subscribe to #threedreport on YouTube and #hearmeout\",\n",
      "    \"url\": \"https://t.co/gneCS6Be34\",\n",
      "    \"entities\": {\n",
      "      \"url\": {\n",
      "        \"urls\": [\n",
      "          {\n",
      "            \"url\": \"https://t.co/gneCS6Be34\",\n",
      "            \"expanded_url\": \"https://youtube.com/c/TheReedReport\",\n",
      "            \"display_url\": \"youtube.com/c/TheReedReport\",\n",
      "            \"indices\": [\n",
      "              0,\n",
      "              23\n",
      "            ]\n",
      "          }\n",
      "        ]\n",
      "      },\n",
      "      \"description\": {\n",
      "        \"urls\": []\n",
      "      }\n",
      "    },\n",
      "    \"protected\": false,\n",
      "    \"followers_count\": 44,\n",
      "    \"friends_count\": 86,\n",
      "    \"listed_count\": 0,\n",
      "    \"created_at\": \"Sun Feb 16 17:26:12 +0000 2020\",\n",
      "    \"favourites_count\": 695,\n",
      "    \"utc_offset\": null,\n",
      "    \"time_zone\": null,\n",
      "    \"geo_enabled\": false,\n",
      "    \"verified\": false,\n",
      "    \"statuses_count\": 3726,\n",
      "    \"lang\": null,\n",
      "    \"contributors_enabled\": false,\n",
      "    \"is_translator\": false,\n",
      "    \"is_translation_enabled\": false,\n",
      "    \"profile_background_color\": \"F5F8FA\",\n",
      "    \"profile_background_image_url\": null,\n",
      "    \"profile_background_image_url_https\": null,\n",
      "    \"profile_background_tile\": false,\n",
      "    \"profile_image_url\": \"http://pbs.twimg.com/profile_images/1506357233558294530/x2NKXXyn_normal.jpg\",\n",
      "    \"profile_image_url_https\": \"https://pbs.twimg.com/profile_images/1506357233558294530/x2NKXXyn_normal.jpg\",\n",
      "    \"profile_banner_url\": \"https://pbs.twimg.com/profile_banners/1229094589685878784/1647978536\",\n",
      "    \"profile_link_color\": \"1DA1F2\",\n",
      "    \"profile_sidebar_border_color\": \"C0DEED\",\n",
      "    \"profile_sidebar_fill_color\": \"DDEEF6\",\n",
      "    \"profile_text_color\": \"333333\",\n",
      "    \"profile_use_background_image\": true,\n",
      "    \"has_extended_profile\": true,\n",
      "    \"default_profile\": true,\n",
      "    \"default_profile_image\": false,\n",
      "    \"following\": false,\n",
      "    \"follow_request_sent\": false,\n",
      "    \"notifications\": false,\n",
      "    \"translator_type\": \"none\",\n",
      "    \"withheld_in_countries\": []\n",
      "  },\n",
      "  \"geo\": null,\n",
      "  \"coordinates\": null,\n",
      "  \"place\": null,\n",
      "  \"contributors\": null,\n",
      "  \"is_quote_status\": false,\n",
      "  \"retweet_count\": 0,\n",
      "  \"favorite_count\": 0,\n",
      "  \"favorited\": false,\n",
      "  \"retweeted\": false,\n",
      "  \"possibly_sensitive\": false,\n",
      "  \"lang\": \"en\"\n",
      "}\n"
     ]
    }
   ],
   "source": [
    "# We now need to write a loop to explain to Python what to do and what not to do. \n",
    "import json\n",
    "\n",
    "for _ in range(5):\n",
    "    print('Length of statuses', len(statuses))\n",
    "    try:\n",
    "        next_results = search_results['search_metadata']['next_results']\n",
    "    except KeyError: # No more results when next_results doesn't exist\n",
    "        break\n",
    "            \n",
    "    # Create a dictionary from next_results\n",
    "    kwargs = dict([kv.split('=') for kv in next_results[1:].split('&')])\n",
    "    \n",
    "    search_results = twitter_api.search.tweets(**kwargs)\n",
    "    statuses += search_results['statuses']\n",
    "    \n",
    "print(json.dumps(statuses[1], indent = 2))"
   ]
  },
  {
   "cell_type": "code",
   "execution_count": 6,
   "id": "e19e5fb4",
   "metadata": {},
   "outputs": [
    {
     "data": {
      "text/plain": [
       "dict_keys(['created_at', 'id', 'id_str', 'text', 'truncated', 'entities', 'metadata', 'source', 'in_reply_to_status_id', 'in_reply_to_status_id_str', 'in_reply_to_user_id', 'in_reply_to_user_id_str', 'in_reply_to_screen_name', 'user', 'geo', 'coordinates', 'place', 'contributors', 'is_quote_status', 'retweet_count', 'favorite_count', 'favorited', 'retweeted', 'possibly_sensitive', 'lang'])"
      ]
     },
     "execution_count": 6,
     "metadata": {},
     "output_type": "execute_result"
    }
   ],
   "source": [
    "# Explore the payload more by storing the tweet in a variable\n",
    "t = statuses[0]\n",
    "\n",
    "# Print the keys.\n",
    "t.keys()"
   ]
  },
  {
   "cell_type": "code",
   "execution_count": 7,
   "id": "12f97f11",
   "metadata": {},
   "outputs": [
    {
     "name": "stdout",
     "output_type": "stream",
     "text": [
      "1543125873364066305\n",
      "Was Rudy Gobert worth four first round picks? And Pat Bev?! Tune in to the Reed Report for the full clip!… https://t.co/KtGFAea97t\n"
     ]
    },
    {
     "data": {
      "text/plain": [
       "{'hashtags': [],\n",
       " 'symbols': [],\n",
       " 'user_mentions': [],\n",
       " 'urls': [{'url': 'https://t.co/KtGFAea97t',\n",
       "   'expanded_url': 'https://twitter.com/i/web/status/1543125873364066305',\n",
       "   'display_url': 'twitter.com/i/web/status/1…',\n",
       "   'indices': [107, 130]}]}"
      ]
     },
     "execution_count": 7,
     "metadata": {},
     "output_type": "execute_result"
    }
   ],
   "source": [
    "# Look at all the keys we can analyze now, let's print the id and text\n",
    "print(t['id'])\n",
    "\n",
    "print(t['text'])\n",
    "\n",
    "# View entities\n",
    "t['entities']"
   ]
  },
  {
   "cell_type": "code",
   "execution_count": 9,
   "id": "4db0696e",
   "metadata": {},
   "outputs": [
    {
     "name": "stdout",
     "output_type": "stream",
     "text": [
      "0\n",
      "{'id': 1229094589685878784, 'id_str': '1229094589685878784', 'name': 'TheReedReport', 'screen_name': 'ReportReed', 'location': 'Sacramento ', 'description': 'subscribe to #threedreport on YouTube and #hearmeout', 'url': 'https://t.co/gneCS6Be34', 'entities': {'url': {'urls': [{'url': 'https://t.co/gneCS6Be34', 'expanded_url': 'https://youtube.com/c/TheReedReport', 'display_url': 'youtube.com/c/TheReedReport', 'indices': [0, 23]}]}, 'description': {'urls': []}}, 'protected': False, 'followers_count': 44, 'friends_count': 86, 'listed_count': 0, 'created_at': 'Sun Feb 16 17:26:12 +0000 2020', 'favourites_count': 695, 'utc_offset': None, 'time_zone': None, 'geo_enabled': False, 'verified': False, 'statuses_count': 3726, 'lang': None, 'contributors_enabled': False, 'is_translator': False, 'is_translation_enabled': False, 'profile_background_color': 'F5F8FA', 'profile_background_image_url': None, 'profile_background_image_url_https': None, 'profile_background_tile': False, 'profile_image_url': 'http://pbs.twimg.com/profile_images/1506357233558294530/x2NKXXyn_normal.jpg', 'profile_image_url_https': 'https://pbs.twimg.com/profile_images/1506357233558294530/x2NKXXyn_normal.jpg', 'profile_banner_url': 'https://pbs.twimg.com/profile_banners/1229094589685878784/1647978536', 'profile_link_color': '1DA1F2', 'profile_sidebar_border_color': 'C0DEED', 'profile_sidebar_fill_color': 'DDEEF6', 'profile_text_color': '333333', 'profile_use_background_image': True, 'has_extended_profile': True, 'default_profile': True, 'default_profile_image': False, 'following': False, 'follow_request_sent': False, 'notifications': False, 'translator_type': 'none', 'withheld_in_countries': []}\n"
     ]
    }
   ],
   "source": [
    "# What else could be helpful for us to analyze?\n",
    "print(t['retweet_count'])\n",
    "\n",
    "print(t['user'])"
   ]
  },
  {
   "cell_type": "code",
   "execution_count": null,
   "id": "ee093042",
   "metadata": {},
   "outputs": [],
   "source": []
  }
 ],
 "metadata": {
  "kernelspec": {
   "display_name": "Python 3 (ipykernel)",
   "language": "python",
   "name": "python3"
  },
  "language_info": {
   "codemirror_mode": {
    "name": "ipython",
    "version": 3
   },
   "file_extension": ".py",
   "mimetype": "text/x-python",
   "name": "python",
   "nbconvert_exporter": "python",
   "pygments_lexer": "ipython3",
   "version": "3.8.3"
  }
 },
 "nbformat": 4,
 "nbformat_minor": 5
}
