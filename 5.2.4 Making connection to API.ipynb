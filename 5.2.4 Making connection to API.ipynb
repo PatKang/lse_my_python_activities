{
 "cells": [
  {
   "cell_type": "markdown",
   "id": "8e75d96b",
   "metadata": {},
   "source": [
    "# Scenario\n",
    "\n",
    "The story of Bitcoin and other cryptocurrencies has captured investors like few financial stories have. Many finance firms are looking to dabble in the crypto market. \n",
    "\n",
    "As a data analyst at a financial institution, your line manager has tasked you with investigating Bitcoin in a little more detail, particularly in terms of future growth of the currency and its use in the United States.\n",
    "\n",
    "* Connect to two different APIs and generate files from them"
   ]
  },
  {
   "cell_type": "code",
   "execution_count": 2,
   "id": "f4980413",
   "metadata": {},
   "outputs": [
    {
     "name": "stdout",
     "output_type": "stream",
     "text": [
      "200\n",
      "{'time': {'updated': 'Jul 1, 2022 17:25:00 UTC', 'updatedISO': '2022-07-01T17:25:00+00:00', 'updateduk': 'Jul 1, 2022 at 18:25 BST'}, 'disclaimer': 'This data was produced from the CoinDesk Bitcoin Price Index (USD). Non-USD currency data converted using hourly conversion rate from openexchangerates.org', 'chartName': 'Bitcoin', 'bpi': {'USD': {'code': 'USD', 'symbol': '&#36;', 'rate': '19,378.3459', 'description': 'United States Dollar', 'rate_float': 19378.3459}, 'GBP': {'code': 'GBP', 'symbol': '&pound;', 'rate': '15,989.6158', 'description': 'British Pound Sterling', 'rate_float': 15989.6158}, 'EUR': {'code': 'EUR', 'symbol': '&euro;', 'rate': '18,537.0350', 'description': 'Euro', 'rate_float': 18537.035}}}\n"
     ]
    }
   ],
   "source": [
    "# Import the nessecary libraries.\n",
    "import pandas as pd\n",
    "import requests\n",
    "import json\n",
    "\n",
    "# Create variable \n",
    "bitcoin_response = requests.get('https://api.coindesk.com/v1/bpi/currentprice.json')\n",
    "\n",
    "# Print the status_code\n",
    "print(bitcoin_response.status_code)\n",
    "\n",
    "# Print the json response\n",
    "print(bitcoin_response.json())"
   ]
  },
  {
   "cell_type": "code",
   "execution_count": 3,
   "id": "efdd2d82",
   "metadata": {},
   "outputs": [
    {
     "name": "stdout",
     "output_type": "stream",
     "text": [
      "{'Content-Type': 'application/javascript', 'Content-Length': '676', 'Connection': 'keep-alive', 'Access-Control-Allow-Origin': '*', 'Cache-Control': 'max-age=15', 'Date': 'Fri, 01 Jul 2022 17:26:07 GMT', 'Expires': 'Fri, 01 Jul 2022 17:27:07 UTC', 'Server': 'nginx/1.18.0', 'X-Powered-By': 'Fat-Free Framework', 'X-Cache': 'Hit from cloudfront', 'Via': '1.1 f0f5607a03d2ae4c43b553dc2cef0c9e.cloudfront.net (CloudFront)', 'X-Amz-Cf-Pop': 'ZRH50-C1', 'X-Amz-Cf-Id': 'mvm7Fl5-175OZ8B4dJm3o3njWPpeyDR4YAmVA52jsHmfWSpi9ZzyQw==', 'Age': '13'}\n"
     ]
    }
   ],
   "source": [
    "# It worked, 200 indicates a clean connection. \n",
    "\n",
    "# We can now create the user defined function in order to retrieve response headers\n",
    "\n",
    "if bitcoin_response.status_code == 200:\n",
    "    print(bitcoin_response.headers)\n",
    "else:\n",
    "    print(bitcoin_response.status_code)\n",
    "    response-headers['Content Encoding']\n"
   ]
  },
  {
   "cell_type": "code",
   "execution_count": 4,
   "id": "98c634f6",
   "metadata": {},
   "outputs": [
    {
     "name": "stdout",
     "output_type": "stream",
     "text": [
      "Fri, 01 Jul 2022 17:26:07 GMT\n"
     ]
    }
   ],
   "source": [
    "# Try accessing only certain parts of the header\n",
    "print(bitcoin_response.headers['Date'])"
   ]
  },
  {
   "cell_type": "code",
   "execution_count": 5,
   "id": "e0d8fa10",
   "metadata": {},
   "outputs": [
    {
     "data": {
      "text/plain": [
       "'{\"time\":{\"updated\":\"Jul 1, 2022 17:25:00 UTC\",\"updatedISO\":\"2022-07-01T17:25:00+00:00\",\"updateduk\":\"Jul 1, 2022 at 18:25 BST\"},\"disclaimer\":\"This data was produced from the CoinDesk Bitcoin Price Index (USD). Non-USD currency data converted using hourly conversion rate from openexchangerates.org\",\"chartName\":\"Bitcoin\",\"bpi\":{\"USD\":{\"code\":\"USD\",\"symbol\":\"&#36;\",\"rate\":\"19,378.3459\",\"description\":\"United States Dollar\",\"rate_float\":19378.3459},\"GBP\":{\"code\":\"GBP\",\"symbol\":\"&pound;\",\"rate\":\"15,989.6158\",\"description\":\"British Pound Sterling\",\"rate_float\":15989.6158},\"EUR\":{\"code\":\"EUR\",\"symbol\":\"&euro;\",\"rate\":\"18,537.0350\",\"description\":\"Euro\",\"rate_float\":18537.035}}}'"
      ]
     },
     "execution_count": 5,
     "metadata": {},
     "output_type": "execute_result"
    }
   ],
   "source": [
    "# We can now get the response as a text\n",
    "bitcoin_response.text"
   ]
  },
  {
   "cell_type": "code",
   "execution_count": 6,
   "id": "8c373ba2",
   "metadata": {},
   "outputs": [
    {
     "data": {
      "text/plain": [
       "{'time': {'updated': 'Jul 1, 2022 17:25:00 UTC',\n",
       "  'updatedISO': '2022-07-01T17:25:00+00:00',\n",
       "  'updateduk': 'Jul 1, 2022 at 18:25 BST'},\n",
       " 'disclaimer': 'This data was produced from the CoinDesk Bitcoin Price Index (USD). Non-USD currency data converted using hourly conversion rate from openexchangerates.org',\n",
       " 'chartName': 'Bitcoin',\n",
       " 'bpi': {'USD': {'code': 'USD',\n",
       "   'symbol': '&#36;',\n",
       "   'rate': '19,378.3459',\n",
       "   'description': 'United States Dollar',\n",
       "   'rate_float': 19378.3459},\n",
       "  'GBP': {'code': 'GBP',\n",
       "   'symbol': '&pound;',\n",
       "   'rate': '15,989.6158',\n",
       "   'description': 'British Pound Sterling',\n",
       "   'rate_float': 15989.6158},\n",
       "  'EUR': {'code': 'EUR',\n",
       "   'symbol': '&euro;',\n",
       "   'rate': '18,537.0350',\n",
       "   'description': 'Euro',\n",
       "   'rate_float': 18537.035}}}"
      ]
     },
     "execution_count": 6,
     "metadata": {},
     "output_type": "execute_result"
    }
   ],
   "source": [
    "# Let's make this a bit nicer to read by plugging this in as a json format\n",
    "bitcoin_response.json()"
   ]
  },
  {
   "cell_type": "code",
   "execution_count": 10,
   "id": "8cd6f061",
   "metadata": {},
   "outputs": [
    {
     "name": "stdout",
     "output_type": "stream",
     "text": [
      "{\n",
      "    \"time\"={\n",
      "        \"updated\"=\"Jul 1, 2022 17:25:00 UTC\".\n",
      "        \"updatedISO\"=\"2022-07-01T17:25:00+00:00\".\n",
      "        \"updateduk\"=\"Jul 1, 2022 at 18:25 BST\"\n",
      "    }.\n",
      "    \"disclaimer\"=\"This data was produced from the CoinDesk Bitcoin Price Index (USD). Non-USD currency data converted using hourly conversion rate from openexchangerates.org\".\n",
      "    \"chartName\"=\"Bitcoin\".\n",
      "    \"bpi\"={\n",
      "        \"USD\"={\n",
      "            \"code\"=\"USD\".\n",
      "            \"symbol\"=\"&#36;\".\n",
      "            \"rate\"=\"19,378.3459\".\n",
      "            \"description\"=\"United States Dollar\".\n",
      "            \"rate_float\"=19378.3459\n",
      "        }.\n",
      "        \"GBP\"={\n",
      "            \"code\"=\"GBP\".\n",
      "            \"symbol\"=\"&pound;\".\n",
      "            \"rate\"=\"15,989.6158\".\n",
      "            \"description\"=\"British Pound Sterling\".\n",
      "            \"rate_float\"=15989.6158\n",
      "        }.\n",
      "        \"EUR\"={\n",
      "            \"code\"=\"EUR\".\n",
      "            \"symbol\"=\"&euro;\".\n",
      "            \"rate\"=\"18,537.0350\".\n",
      "            \"description\"=\"Euro\".\n",
      "            \"rate_float\"=18537.035\n",
      "        }\n",
      "    }\n",
      "}\n"
     ]
    }
   ],
   "source": [
    "# We can now format this in a way we like \n",
    "bitcoin_content = json.loads(bitcoin_response.text)\n",
    "\n",
    "print(json.dumps(bitcoin_content, indent = 4, separators = ('.', '=')))"
   ]
  },
  {
   "cell_type": "code",
   "execution_count": 11,
   "id": "32bfbf84",
   "metadata": {},
   "outputs": [],
   "source": [
    "# Create a pandas DataFrame with the bitcoin content text\n",
    "\n",
    "bitcoin_dataframe = pd.DataFrame(bitcoin_content)"
   ]
  },
  {
   "cell_type": "code",
   "execution_count": 13,
   "id": "ca20fc1b",
   "metadata": {},
   "outputs": [],
   "source": [
    "# Save the JSON file to .json.\n",
    "# Create a JSON file.\n",
    "bitcoin_json = json.dumps(bitcoin_content)\n",
    "\n",
    "\n",
    "with open('bitcoin_json.json', 'w') as f:\n",
    "    json.dump(bitcoin_content, f)"
   ]
  },
  {
   "cell_type": "code",
   "execution_count": null,
   "id": "fbdda1b5",
   "metadata": {},
   "outputs": [],
   "source": [
    "# Save as a CSV file without index.\n",
    "bitcoin_dataframe.to_csv('bitcoin_csv.csv', index=False)"
   ]
  },
  {
   "cell_type": "markdown",
   "id": "6b9eb07d",
   "metadata": {},
   "source": [
    "### USA Population data"
   ]
  },
  {
   "cell_type": "code",
   "execution_count": 15,
   "id": "b21b0113",
   "metadata": {},
   "outputs": [],
   "source": [
    "# We'll do the same exercise now with the other data\n",
    "\n",
    "# First establish a connection with the API by creating a variable\n",
    "usa_pop = requests.get('https://datausa.io/api/data?drilldowns=Nation&measures=Population')"
   ]
  },
  {
   "cell_type": "code",
   "execution_count": 16,
   "id": "c3cd9449",
   "metadata": {},
   "outputs": [
    {
     "name": "stdout",
     "output_type": "stream",
     "text": [
      "200\n",
      "{'data': [{'ID Nation': '01000US', 'Nation': 'United States', 'ID Year': 2019, 'Year': '2019', 'Population': 328239523, 'Slug Nation': 'united-states'}, {'ID Nation': '01000US', 'Nation': 'United States', 'ID Year': 2018, 'Year': '2018', 'Population': 327167439, 'Slug Nation': 'united-states'}, {'ID Nation': '01000US', 'Nation': 'United States', 'ID Year': 2017, 'Year': '2017', 'Population': 325719178, 'Slug Nation': 'united-states'}, {'ID Nation': '01000US', 'Nation': 'United States', 'ID Year': 2016, 'Year': '2016', 'Population': 323127515, 'Slug Nation': 'united-states'}, {'ID Nation': '01000US', 'Nation': 'United States', 'ID Year': 2015, 'Year': '2015', 'Population': 321418821, 'Slug Nation': 'united-states'}, {'ID Nation': '01000US', 'Nation': 'United States', 'ID Year': 2014, 'Year': '2014', 'Population': 318857056, 'Slug Nation': 'united-states'}, {'ID Nation': '01000US', 'Nation': 'United States', 'ID Year': 2013, 'Year': '2013', 'Population': 316128839, 'Slug Nation': 'united-states'}], 'source': [{'measures': ['Population'], 'annotations': {'source_name': 'Census Bureau', 'source_description': 'The American Community Survey (ACS) is conducted by the US Census and sent to a portion of the population every year.', 'dataset_name': 'ACS 1-year Estimate', 'dataset_link': 'http://www.census.gov/programs-surveys/acs/', 'table_id': 'B01003', 'topic': 'Diversity', 'subtopic': 'Demographics'}, 'name': 'acs_yg_total_population_1', 'substitutions': []}]}\n"
     ]
    }
   ],
   "source": [
    "# Print the status_code of the get request\n",
    "print(usa_pop.status_code)\n",
    "\n",
    "# Print the json response\n",
    "print(usa_pop.json())"
   ]
  },
  {
   "cell_type": "code",
   "execution_count": 20,
   "id": "5d6f2cb8",
   "metadata": {
    "scrolled": true
   },
   "outputs": [
    {
     "name": "stdout",
     "output_type": "stream",
     "text": [
      "{'Date': 'Fri, 01 Jul 2022 17:31:00 GMT', 'Content-Type': 'application/json; charset=utf-8', 'Transfer-Encoding': 'chunked', 'Connection': 'keep-alive', 'x-dns-prefetch-control': 'off', 'strict-transport-security': 'max-age=15552000; includeSubDomains', 'x-download-options': 'noopen', 'x-content-type-options': 'nosniff', 'x-xss-protection': '1; mode=block', 'content-language': 'en', 'etag': 'W/\"55b-jEIUyvQphH/gM3DVlQl2pEdoLeo\"', 'vary': 'Accept-Encoding', 'last-modified': 'Mon, 02 May 2022 17:25:47 GMT', 'x-cache-status': 'HIT', 'x-frame-options': 'SAMEORIGIN', 'access-control-allow-origin': '*', 'access-control-allow-credentials': 'true', 'access-control-allow-methods': 'GET, POST, OPTIONS', 'access-control-allow-headers': 'DNT,X-CustomHeader,Keep-Alive,User-Agent,X-Requested-With,If-Modified-Since,Cache-Control,Content-Type', 'x-cache-key': 'GET/api/data?drilldowns=Nation&measures=Population', 'Cache-Control': 'max-age=1800', 'CF-Cache-Status': 'HIT', 'Age': '1616677', 'Expect-CT': 'max-age=604800, report-uri=\"https://report-uri.cloudflare.com/cdn-cgi/beacon/expect-ct\"', 'Report-To': '{\"endpoints\":[{\"url\":\"https:\\\\/\\\\/a.nel.cloudflare.com\\\\/report\\\\/v3?s=Mpzyt9kWbJLGADBadOLclyHIi1SS4xOKZGsTCKGfM%2FEP96Hm%2FXfL49sVMBDbAjSK2WQR4QrXDJjDM1Q0vYplBB65j025RPobNgf0A0dfLMxn52oPRaNXo%2Fr8ncI%3D\"}],\"group\":\"cf-nel\",\"max_age\":604800}', 'NEL': '{\"success_fraction\":0,\"report_to\":\"cf-nel\",\"max_age\":604800}', 'Server': 'cloudflare', 'CF-RAY': '7240df730e1e9b5d-FRA', 'Content-Encoding': 'br'}\n"
     ]
    }
   ],
   "source": [
    "# Let's create a user-defined function to retrieve the headers\n",
    "\n",
    "if usa_pop.status_code == 200:\n",
    "    print(usa_pop.headers)\n",
    "else:\n",
    "    print(usa_pop.status_code)\n",
    "    response-headers['Content Encoding']"
   ]
  },
  {
   "cell_type": "code",
   "execution_count": 22,
   "id": "5b492991",
   "metadata": {},
   "outputs": [
    {
     "name": "stdout",
     "output_type": "stream",
     "text": [
      "GET, POST, OPTIONS\n"
     ]
    }
   ],
   "source": [
    "# Let's access certain parts of the header\n",
    "print(usa_pop.headers['access-control-allow-methods'])"
   ]
  },
  {
   "cell_type": "code",
   "execution_count": 23,
   "id": "63dfa05b",
   "metadata": {},
   "outputs": [
    {
     "data": {
      "text/plain": [
       "'{\"data\":[{\"ID Nation\":\"01000US\",\"Nation\":\"United States\",\"ID Year\":2019,\"Year\":\"2019\",\"Population\":328239523,\"Slug Nation\":\"united-states\"},{\"ID Nation\":\"01000US\",\"Nation\":\"United States\",\"ID Year\":2018,\"Year\":\"2018\",\"Population\":327167439,\"Slug Nation\":\"united-states\"},{\"ID Nation\":\"01000US\",\"Nation\":\"United States\",\"ID Year\":2017,\"Year\":\"2017\",\"Population\":325719178,\"Slug Nation\":\"united-states\"},{\"ID Nation\":\"01000US\",\"Nation\":\"United States\",\"ID Year\":2016,\"Year\":\"2016\",\"Population\":323127515,\"Slug Nation\":\"united-states\"},{\"ID Nation\":\"01000US\",\"Nation\":\"United States\",\"ID Year\":2015,\"Year\":\"2015\",\"Population\":321418821,\"Slug Nation\":\"united-states\"},{\"ID Nation\":\"01000US\",\"Nation\":\"United States\",\"ID Year\":2014,\"Year\":\"2014\",\"Population\":318857056,\"Slug Nation\":\"united-states\"},{\"ID Nation\":\"01000US\",\"Nation\":\"United States\",\"ID Year\":2013,\"Year\":\"2013\",\"Population\":316128839,\"Slug Nation\":\"united-states\"}],\"source\":[{\"measures\":[\"Population\"],\"annotations\":{\"source_name\":\"Census Bureau\",\"source_description\":\"The American Community Survey (ACS) is conducted by the US Census and sent to a portion of the population every year.\",\"dataset_name\":\"ACS 1-year Estimate\",\"dataset_link\":\"http://www.census.gov/programs-surveys/acs/\",\"table_id\":\"B01003\",\"topic\":\"Diversity\",\"subtopic\":\"Demographics\"},\"name\":\"acs_yg_total_population_1\",\"substitutions\":[]}]}'"
      ]
     },
     "execution_count": 23,
     "metadata": {},
     "output_type": "execute_result"
    }
   ],
   "source": [
    "# Get the response as a text \n",
    "usa_pop.text"
   ]
  },
  {
   "cell_type": "code",
   "execution_count": 24,
   "id": "ca2800de",
   "metadata": {},
   "outputs": [
    {
     "data": {
      "text/plain": [
       "{'data': [{'ID Nation': '01000US',\n",
       "   'Nation': 'United States',\n",
       "   'ID Year': 2019,\n",
       "   'Year': '2019',\n",
       "   'Population': 328239523,\n",
       "   'Slug Nation': 'united-states'},\n",
       "  {'ID Nation': '01000US',\n",
       "   'Nation': 'United States',\n",
       "   'ID Year': 2018,\n",
       "   'Year': '2018',\n",
       "   'Population': 327167439,\n",
       "   'Slug Nation': 'united-states'},\n",
       "  {'ID Nation': '01000US',\n",
       "   'Nation': 'United States',\n",
       "   'ID Year': 2017,\n",
       "   'Year': '2017',\n",
       "   'Population': 325719178,\n",
       "   'Slug Nation': 'united-states'},\n",
       "  {'ID Nation': '01000US',\n",
       "   'Nation': 'United States',\n",
       "   'ID Year': 2016,\n",
       "   'Year': '2016',\n",
       "   'Population': 323127515,\n",
       "   'Slug Nation': 'united-states'},\n",
       "  {'ID Nation': '01000US',\n",
       "   'Nation': 'United States',\n",
       "   'ID Year': 2015,\n",
       "   'Year': '2015',\n",
       "   'Population': 321418821,\n",
       "   'Slug Nation': 'united-states'},\n",
       "  {'ID Nation': '01000US',\n",
       "   'Nation': 'United States',\n",
       "   'ID Year': 2014,\n",
       "   'Year': '2014',\n",
       "   'Population': 318857056,\n",
       "   'Slug Nation': 'united-states'},\n",
       "  {'ID Nation': '01000US',\n",
       "   'Nation': 'United States',\n",
       "   'ID Year': 2013,\n",
       "   'Year': '2013',\n",
       "   'Population': 316128839,\n",
       "   'Slug Nation': 'united-states'}],\n",
       " 'source': [{'measures': ['Population'],\n",
       "   'annotations': {'source_name': 'Census Bureau',\n",
       "    'source_description': 'The American Community Survey (ACS) is conducted by the US Census and sent to a portion of the population every year.',\n",
       "    'dataset_name': 'ACS 1-year Estimate',\n",
       "    'dataset_link': 'http://www.census.gov/programs-surveys/acs/',\n",
       "    'table_id': 'B01003',\n",
       "    'topic': 'Diversity',\n",
       "    'subtopic': 'Demographics'},\n",
       "   'name': 'acs_yg_total_population_1',\n",
       "   'substitutions': []}]}"
      ]
     },
     "execution_count": 24,
     "metadata": {},
     "output_type": "execute_result"
    }
   ],
   "source": [
    "# Not very nice to read tho, let's make this into a json format\n",
    "usa_pop.json()"
   ]
  },
  {
   "cell_type": "code",
   "execution_count": 28,
   "id": "1d53f1b4",
   "metadata": {},
   "outputs": [
    {
     "name": "stdout",
     "output_type": "stream",
     "text": [
      "{\n",
      "    \"data\"=[\n",
      "        {\n",
      "            \"ID Nation\"=\"01000US\".\n",
      "            \"Nation\"=\"United States\".\n",
      "            \"ID Year\"=2019.\n",
      "            \"Year\"=\"2019\".\n",
      "            \"Population\"=328239523.\n",
      "            \"Slug Nation\"=\"united-states\"\n",
      "        }.\n",
      "        {\n",
      "            \"ID Nation\"=\"01000US\".\n",
      "            \"Nation\"=\"United States\".\n",
      "            \"ID Year\"=2018.\n",
      "            \"Year\"=\"2018\".\n",
      "            \"Population\"=327167439.\n",
      "            \"Slug Nation\"=\"united-states\"\n",
      "        }.\n",
      "        {\n",
      "            \"ID Nation\"=\"01000US\".\n",
      "            \"Nation\"=\"United States\".\n",
      "            \"ID Year\"=2017.\n",
      "            \"Year\"=\"2017\".\n",
      "            \"Population\"=325719178.\n",
      "            \"Slug Nation\"=\"united-states\"\n",
      "        }.\n",
      "        {\n",
      "            \"ID Nation\"=\"01000US\".\n",
      "            \"Nation\"=\"United States\".\n",
      "            \"ID Year\"=2016.\n",
      "            \"Year\"=\"2016\".\n",
      "            \"Population\"=323127515.\n",
      "            \"Slug Nation\"=\"united-states\"\n",
      "        }.\n",
      "        {\n",
      "            \"ID Nation\"=\"01000US\".\n",
      "            \"Nation\"=\"United States\".\n",
      "            \"ID Year\"=2015.\n",
      "            \"Year\"=\"2015\".\n",
      "            \"Population\"=321418821.\n",
      "            \"Slug Nation\"=\"united-states\"\n",
      "        }.\n",
      "        {\n",
      "            \"ID Nation\"=\"01000US\".\n",
      "            \"Nation\"=\"United States\".\n",
      "            \"ID Year\"=2014.\n",
      "            \"Year\"=\"2014\".\n",
      "            \"Population\"=318857056.\n",
      "            \"Slug Nation\"=\"united-states\"\n",
      "        }.\n",
      "        {\n",
      "            \"ID Nation\"=\"01000US\".\n",
      "            \"Nation\"=\"United States\".\n",
      "            \"ID Year\"=2013.\n",
      "            \"Year\"=\"2013\".\n",
      "            \"Population\"=316128839.\n",
      "            \"Slug Nation\"=\"united-states\"\n",
      "        }\n",
      "    ].\n",
      "    \"source\"=[\n",
      "        {\n",
      "            \"measures\"=[\n",
      "                \"Population\"\n",
      "            ].\n",
      "            \"annotations\"={\n",
      "                \"source_name\"=\"Census Bureau\".\n",
      "                \"source_description\"=\"The American Community Survey (ACS) is conducted by the US Census and sent to a portion of the population every year.\".\n",
      "                \"dataset_name\"=\"ACS 1-year Estimate\".\n",
      "                \"dataset_link\"=\"http://www.census.gov/programs-surveys/acs/\".\n",
      "                \"table_id\"=\"B01003\".\n",
      "                \"topic\"=\"Diversity\".\n",
      "                \"subtopic\"=\"Demographics\"\n",
      "            }.\n",
      "            \"name\"=\"acs_yg_total_population_1\".\n",
      "            \"substitutions\"=[]\n",
      "        }\n",
      "    ]\n",
      "}\n"
     ]
    }
   ],
   "source": [
    "# Let's make this workable in the format we like\n",
    "usa_pop_content = json.loads(usa_pop.text)\n",
    "\n",
    "print(json.dumps(usa_pop_content, indent = 4, separators = ('.', '=')))"
   ]
  },
  {
   "cell_type": "code",
   "execution_count": null,
   "id": "b6acc209",
   "metadata": {},
   "outputs": [],
   "source": []
  }
 ],
 "metadata": {
  "kernelspec": {
   "display_name": "Python 3 (ipykernel)",
   "language": "python",
   "name": "python3"
  },
  "language_info": {
   "codemirror_mode": {
    "name": "ipython",
    "version": 3
   },
   "file_extension": ".py",
   "mimetype": "text/x-python",
   "name": "python",
   "nbconvert_exporter": "python",
   "pygments_lexer": "ipython3",
   "version": "3.8.3"
  }
 },
 "nbformat": 4,
 "nbformat_minor": 5
}
